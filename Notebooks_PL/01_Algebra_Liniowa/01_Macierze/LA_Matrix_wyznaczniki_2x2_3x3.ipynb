{
  "cells": [
    {
      "cell_type": "markdown",
      "metadata": {
        "id": "o2YUUFOdE5sJ"
      },
      "source": [
        "# Wyznaczniki macierzy 2x2 i 3x3\n",
        "\n",
        "### Wyznacznik macierzy 2x2\n",
        "\n",
        "Ogólny wzór dla wyznacznika macierzy 2x2, gdzie macierz wygląda następująco:\n",
        "\n",
        "$$\n",
        "\\mathbf{A} =\n",
        "\\begin{pmatrix}\n",
        "a_{11} & a_{12} \\\\\n",
        "a_{21} & a_{22}\n",
        "\\end{pmatrix}\n",
        "$$\n",
        "\n",
        "Wyznacznik macierzy 2x2 obliczamy za pomocą wzoru:\n",
        "\n",
        "$$\n",
        "\\text{det}(A) = a_{11} \\cdot a_{22} - a_{12} \\cdot a_{21}\n",
        "$$\n",
        "\n",
        "### Wyznacznik macierzy 3x3\n",
        "\n",
        "Ogólny wzór dla wyznacznika macierzy 3x3, gdzie macierz wygląda następująco:\n",
        "\n",
        "$$\n",
        "\\mathbf{B} =\n",
        "\\begin{pmatrix}\n",
        "a_{11} & a_{12} & a_{13} \\\\\n",
        "a_{21} & a_{22} & a_{23} \\\\\n",
        "a_{31} & a_{32} & a_{33}\n",
        "\\end{pmatrix}\n",
        "$$\n",
        "\n",
        "Wyznacznik macierzy 3x3 obliczamy za pomocą metody Sarrusa lub rozwinięcia Laplace'a. Zastosujemy tutaj metodę Sarrusa:\n",
        "\n",
        "$$\n",
        "\\text{det}(B) = a_{11} \\cdot a_{22} \\cdot a_{33} + a_{12} \\cdot a_{23} \\cdot a_{31} + a_{13} \\cdot a_{21} \\cdot a_{32}\n",
        "- a_{13} \\cdot a_{22} \\cdot a_{31} - a_{12} \\cdot a_{21} \\cdot a_{33} - a_{11} \\cdot a_{23} \\cdot a_{32}\n",
        "$$\n",
        "\n",
        "<img src=\"https://upload.wikimedia.org/wikipedia/commons/c/c0/Sarrus_rule1.svg\" alt=\"Opis obrazka\" width=\"300\" align=\"center\"/>\n",
        "\n",
        "Uwaga: Metoda Sarrusa nie działa dla macierzy o większym rozmiarze niż 3x3.\n",
        "\n",
        "---\n",
        "\n",
        "### Obliczanie wyznaczników w Pythonie przy użyciu SymPy\n",
        "\n",
        "Teraz, korzystając z biblioteki SymPy, obliczymy wyznaczniki na przykładzie macierzy 2x2 i 3x3.\n",
        "\n"
      ]
    },
    {
      "cell_type": "code",
      "execution_count": null,
      "metadata": {
        "id": "oCm7GUpOE5sO",
        "outputId": "28c7ffc7-5280-4f78-f6f2-5a1d7e9bb76d"
      },
      "outputs": [
        {
          "data": {
            "text/latex": [
              "$\\displaystyle \\left[\\begin{matrix}2 & 3\\\\1 & 4\\end{matrix}\\right]$"
            ],
            "text/plain": [
              "Matrix([\n",
              "[2, 3],\n",
              "[1, 4]])"
            ]
          },
          "execution_count": 6,
          "metadata": {},
          "output_type": "execute_result"
        }
      ],
      "source": [
        "import sympy as sp\n",
        "\n",
        "# Definiujemy macierz\n",
        "A = sp.Matrix([[2, 3], [1, 4]])\n",
        "A # wyświetlenie macierzy"
      ]
    },
    {
      "cell_type": "code",
      "execution_count": null,
      "metadata": {
        "notebookRunGroups": {
          "groupValue": "2"
        },
        "id": "Qr7xglt9E5sQ",
        "outputId": "32b37071-23d0-4622-c261-175f023671ac"
      },
      "outputs": [
        {
          "data": {
            "text/plain": [
              "True"
            ]
          },
          "execution_count": 7,
          "metadata": {},
          "output_type": "execute_result"
        }
      ],
      "source": [
        "# Sprawdzenie poprawności obliczeń\n",
        "(2*4-3*1)==A.det()"
      ]
    },
    {
      "cell_type": "code",
      "execution_count": null,
      "metadata": {
        "id": "Pxorj9SuE5sQ",
        "outputId": "25359be7-4413-4c56-c5b5-1fba46b31304"
      },
      "outputs": [
        {
          "data": {
            "text/latex": [
              "$\\displaystyle \\left[\\begin{matrix}2 & 3 & 1\\\\1 & 4 & 5\\\\3 & 2 & 1\\end{matrix}\\right]$"
            ],
            "text/plain": [
              "Matrix([\n",
              "[2, 3, 1],\n",
              "[1, 4, 5],\n",
              "[3, 2, 1]])"
            ]
          },
          "execution_count": 8,
          "metadata": {},
          "output_type": "execute_result"
        }
      ],
      "source": [
        "# Macierz 3x3\n",
        "B = sp.Matrix([[2, 3, 1], [1, 4, 5], [3, 2, 1]])\n",
        "B"
      ]
    },
    {
      "cell_type": "code",
      "execution_count": null,
      "metadata": {
        "id": "-Kb9MG4vE5sR",
        "outputId": "c2b01790-1a86-4e0f-8b84-1ed7676a6982"
      },
      "outputs": [
        {
          "data": {
            "text/plain": [
              "True"
            ]
          },
          "execution_count": 9,
          "metadata": {},
          "output_type": "execute_result"
        }
      ],
      "source": [
        "# Sprawdzenie poprawności obliczeń\n",
        "(2*4*1+3*5*3+1*1*2-1*4*3-5*2*2-3*1*1)==B.det()"
      ]
    },
    {
      "cell_type": "markdown",
      "metadata": {
        "id": "9JHWjqGJE5sR"
      },
      "source": [
        "---\n",
        "## Zadania dla studentów\n",
        "\n",
        "Policz wyznaczniki dla macierzy 2x2 i 3x3, które podano poniżej.\n",
        "\n",
        "1. Macierze 2x2:\n",
        "\n",
        "$$\n",
        "\\mathbf{A} =\n",
        "\\begin{pmatrix}\n",
        "2 & 3 \\\\\n",
        "1 & 4\n",
        "\\end{pmatrix}\n",
        ", \\qquad\n",
        "\\mathbf{B} =\n",
        "\\begin{pmatrix}\n",
        "5 & 6 \\\\\n",
        "7 & 8\n",
        "\\end{pmatrix}\n",
        ", \\qquad\n",
        "\\mathbf{C} =\n",
        "\\begin{pmatrix}\n",
        "-1 & 2 \\\\\n",
        "3 & 0\n",
        "\\end{pmatrix}\n",
        "$$\n"
      ]
    },
    {
      "cell_type": "code",
      "source": [
        "import sympy as sp\n",
        "\n",
        "\n",
        "\n",
        "A = sp.Matrix([[2, 3],\n",
        "               [1, 4]])\n",
        "\n",
        "B = sp.Matrix([[5, 6],\n",
        "               [7, 8]])\n",
        "\n",
        "C = sp.Matrix([[-1, 2],\n",
        "               [3, 0]])\n",
        "(2 * 4) - (3 * 1) == A.det()\n",
        "(5 * 8) - (6 * 7) == B.det()\n",
        "(-1 * 0) - (2 * 3) == C.det()\n"
      ],
      "metadata": {
        "id": "97kPC4NrFbXr",
        "outputId": "0bf5ef8a-eaf2-493c-fe5a-539ad4201f41",
        "colab": {
          "base_uri": "https://localhost:8080/"
        }
      },
      "execution_count": 4,
      "outputs": [
        {
          "output_type": "execute_result",
          "data": {
            "text/plain": [
              "True"
            ]
          },
          "metadata": {},
          "execution_count": 4
        }
      ]
    },
    {
      "cell_type": "markdown",
      "metadata": {
        "id": "dpL8XkZbE5sR"
      },
      "source": [
        "\n",
        "2. Macierze 3x3:\n",
        "\n",
        "\n",
        "$$\n",
        "\\mathbf{D} =\n",
        "\\begin{pmatrix}\n",
        "1 & 0 & 2 \\\\\n",
        "-1 & 3 & 1 \\\\\n",
        "2 & 4 & -2\n",
        "\\end{pmatrix}\n",
        ", \\qquad\n",
        "\\mathbf{E} =\n",
        "\\begin{pmatrix}\n",
        "3 & 1 & -1 \\\\\n",
        "0 & 2 & 4 \\\\\n",
        "5 & 3 & 2\n",
        "\\end{pmatrix}\n",
        ", \\qquad\n",
        "\\mathbf{F} =\n",
        "\\begin{pmatrix}\n",
        "2 & -3 & 1 \\\\\n",
        "1 & 4 & -2 \\\\\n",
        "1 & 5 & 3\n",
        "\\end{pmatrix}\n",
        "$$\n"
      ]
    },
    {
      "cell_type": "code",
      "source": [
        "import sympy as sp\n",
        "D = sp.Matrix([[1, 0, 2],\n",
        "               [-1, 3, 1],\n",
        "               [2, 4, -2]])\n",
        "\n",
        "E = sp.Matrix([[3, 1, -1],\n",
        "               [0, 2, 4],\n",
        "               [5, 3, 2]])\n",
        "\n",
        "F = sp.Matrix([[2, -3, 1],\n",
        "               [1, 4, -2],\n",
        "               [1, 5, 3]])\n",
        "\n",
        "\n",
        "(1 * 3 * -2) + (-1 * 4 * 2) + (2 * 0 * 1) - (2 * 3 * 2) - (1 * 4 * 1) - (-2 * 0 * -1) == D.det()\n",
        "(3 * 2 * 2) + (0 * 3 * -1) + (5 * 1 * 4) - (-1 * 2 * 5) - (4 * 3 * 3) - (2 * 1 * 0) == E.det()\n",
        "(2 * 4 * 3) + (1 * 5 * 1) + (1 * -3 * -2) - (1 * 4 * 1) - (-2 * 5 * 2) - (3 * -3 * 1) == F.det()"
      ],
      "metadata": {
        "id": "PWZ2eh0UFLz2",
        "outputId": "240188ec-e042-4f91-ca2f-a2e8a067ccd5",
        "colab": {
          "base_uri": "https://localhost:8080/"
        }
      },
      "execution_count": 5,
      "outputs": [
        {
          "output_type": "execute_result",
          "data": {
            "text/plain": [
              "True"
            ]
          },
          "metadata": {},
          "execution_count": 5
        }
      ]
    }
  ],
  "metadata": {
    "kernelspec": {
      "display_name": ".venv",
      "language": "python",
      "name": "python3"
    },
    "language_info": {
      "codemirror_mode": {
        "name": "ipython",
        "version": 3
      },
      "file_extension": ".py",
      "mimetype": "text/x-python",
      "name": "python",
      "nbconvert_exporter": "python",
      "pygments_lexer": "ipython3",
      "version": "3.11.9"
    },
    "colab": {
      "provenance": []
    }
  },
  "nbformat": 4,
  "nbformat_minor": 0
}