{
  "cells": [
    {
      "cell_type": "markdown",
      "metadata": {
        "id": "qlZeFcOm_bvF"
      },
      "source": [
        "# Odwracanie macierzy\n",
        "\n",
        "Macierz odwrotna do macierzy $A$ to taka macierz $A^{-1}$, że $A \\cdot A^{-1} = A^{-1} \\cdot A = I$, gdzie $I$ to macierz jednostkowa."
      ]
    },
    {
      "cell_type": "markdown",
      "metadata": {
        "id": "v1psVruf_bvI"
      },
      "source": [
        "**Przykład 1:**"
      ]
    },
    {
      "cell_type": "code",
      "execution_count": 2,
      "metadata": {
        "id": "jdvJFl6N_bvI",
        "outputId": "6b0a1e82-7829-41e5-dd7f-083cca31b3b3",
        "colab": {
          "base_uri": "https://localhost:8080/",
          "height": 78
        }
      },
      "outputs": [
        {
          "output_type": "execute_result",
          "data": {
            "text/plain": [
              "Matrix([\n",
              "[2, 1, 2],\n",
              "[5, 3, 1],\n",
              "[1, 1, 5]])"
            ],
            "text/latex": "$\\displaystyle \\left[\\begin{matrix}2 & 1 & 2\\\\5 & 3 & 1\\\\1 & 1 & 5\\end{matrix}\\right]$"
          },
          "metadata": {},
          "execution_count": 2
        }
      ],
      "source": [
        "import sympy as sp #import sympy library\n",
        "k1=sp.Matrix([[2, 1, 2], [5, 3, 1],[1, 1, 5]]) #stwórz macierz k1\n",
        "k1"
      ]
    },
    {
      "cell_type": "code",
      "execution_count": 6,
      "metadata": {
        "id": "a0F6WF0w_bvJ",
        "outputId": "492adda2-0ba8-4bcf-b5e6-6744db7c8164",
        "colab": {
          "base_uri": "https://localhost:8080/",
          "height": 78
        }
      },
      "outputs": [
        {
          "output_type": "execute_result",
          "data": {
            "text/plain": [
              "Matrix([\n",
              "[7/4, -3/8, -5/8],\n",
              "[ -3,    1,    1],\n",
              "[1/4, -1/8,  1/8]])"
            ],
            "text/latex": "$\\displaystyle \\left[\\begin{matrix}\\frac{7}{4} & - \\frac{3}{8} & - \\frac{5}{8}\\\\-3 & 1 & 1\\\\\\frac{1}{4} & - \\frac{1}{8} & \\frac{1}{8}\\end{matrix}\\right]$"
          },
          "metadata": {},
          "execution_count": 6
        }
      ],
      "source": [
        "inverse_k1 = k1.inv() #oblicz odwrotność macierzy k1\n",
        "inverse_k1"
      ]
    },
    {
      "cell_type": "code",
      "execution_count": 7,
      "metadata": {
        "id": "GZ35yiWQ_bvK",
        "outputId": "025384e1-9203-49d1-e4fb-90798d152664",
        "colab": {
          "base_uri": "https://localhost:8080/",
          "height": 78
        }
      },
      "outputs": [
        {
          "output_type": "execute_result",
          "data": {
            "text/plain": [
              "Matrix([\n",
              "[1, 0, 0],\n",
              "[0, 1, 0],\n",
              "[0, 0, 1]])"
            ],
            "text/latex": "$\\displaystyle \\left[\\begin{matrix}1 & 0 & 0\\\\0 & 1 & 0\\\\0 & 0 & 1\\end{matrix}\\right]$"
          },
          "metadata": {},
          "execution_count": 7
        }
      ],
      "source": [
        "k1*inverse_k1 # sprawdzamy czy mnożenie macierzy przez jej odwrotność daje macierz jednostkową"
      ]
    },
    {
      "cell_type": "markdown",
      "metadata": {
        "id": "kyFo5Hfv_bvK"
      },
      "source": [
        "**Przykład 2:**"
      ]
    },
    {
      "cell_type": "code",
      "execution_count": 8,
      "metadata": {
        "id": "KM3EXrcj_bvK",
        "outputId": "d20513d2-052f-4baf-e6c1-439203931b1e",
        "colab": {
          "base_uri": "https://localhost:8080/",
          "height": 89
        }
      },
      "outputs": [
        {
          "output_type": "execute_result",
          "data": {
            "text/plain": [
              "Matrix([\n",
              "[ (e*i - f*h)/(a*e*i - a*f*h - b*d*i + b*f*g + c*d*h - c*e*g), (-b*i + c*h)/(a*e*i - a*f*h - b*d*i + b*f*g + c*d*h - c*e*g),  (b*f - c*e)/(a*e*i - a*f*h - b*d*i + b*f*g + c*d*h - c*e*g)],\n",
              "[(-d*i + f*g)/(a*e*i - a*f*h - b*d*i + b*f*g + c*d*h - c*e*g),  (a*i - c*g)/(a*e*i - a*f*h - b*d*i + b*f*g + c*d*h - c*e*g), (-a*f + c*d)/(a*e*i - a*f*h - b*d*i + b*f*g + c*d*h - c*e*g)],\n",
              "[ (d*h - e*g)/(a*e*i - a*f*h - b*d*i + b*f*g + c*d*h - c*e*g), (-a*h + b*g)/(a*e*i - a*f*h - b*d*i + b*f*g + c*d*h - c*e*g),  (a*e - b*d)/(a*e*i - a*f*h - b*d*i + b*f*g + c*d*h - c*e*g)]])"
            ],
            "text/latex": "$\\displaystyle \\left[\\begin{matrix}\\frac{e i - f h}{a e i - a f h - b d i + b f g + c d h - c e g} & \\frac{- b i + c h}{a e i - a f h - b d i + b f g + c d h - c e g} & \\frac{b f - c e}{a e i - a f h - b d i + b f g + c d h - c e g}\\\\\\frac{- d i + f g}{a e i - a f h - b d i + b f g + c d h - c e g} & \\frac{a i - c g}{a e i - a f h - b d i + b f g + c d h - c e g} & \\frac{- a f + c d}{a e i - a f h - b d i + b f g + c d h - c e g}\\\\\\frac{d h - e g}{a e i - a f h - b d i + b f g + c d h - c e g} & \\frac{- a h + b g}{a e i - a f h - b d i + b f g + c d h - c e g} & \\frac{a e - b d}{a e i - a f h - b d i + b f g + c d h - c e g}\\end{matrix}\\right]$"
          },
          "metadata": {},
          "execution_count": 8
        }
      ],
      "source": [
        "import sympy as sp\n",
        "a,b,c,d,e,f,g,h,i = sp.symbols('a b c d e f g h i') #definiujemy zmienne a-i\n",
        "k=sp.Matrix([[a, b, c], [d, e, f], [g, h, i]]) #tworzymy macierz k\n",
        "inverse_k = k.inv()\n",
        "inverse_k"
      ]
    },
    {
      "cell_type": "markdown",
      "metadata": {
        "id": "hopEUSne_bvL"
      },
      "source": [
        "Ta skomplikowana postać wynika ze wzoru, który pozwala na obliczenie elementów macierzy odwrotnej. Zanim do niego przejdziemy, zdefiniujmy kilka pojęć."
      ]
    },
    {
      "cell_type": "markdown",
      "metadata": {
        "id": "w33nIvJN_bvL"
      },
      "source": [
        "**Transpozycja macierzy** jest operacją, która zamienia wiersze na kolumny. Transponowana macierz do macierzy $A$ to taka macierz $A^T$, że $A^T_{ij} = A_{ji}$."
      ]
    },
    {
      "cell_type": "code",
      "execution_count": 9,
      "metadata": {
        "id": "yBtRgrZX_bvL",
        "outputId": "f5f0e1b3-a1d5-4e28-ad81-d1d58621eeae",
        "colab": {
          "base_uri": "https://localhost:8080/",
          "height": 78
        }
      },
      "outputs": [
        {
          "output_type": "execute_result",
          "data": {
            "text/plain": [
              "Matrix([\n",
              "[a, b, c],\n",
              "[d, e, f],\n",
              "[g, h, i]])"
            ],
            "text/latex": "$\\displaystyle \\left[\\begin{matrix}a & b & c\\\\d & e & f\\\\g & h & i\\end{matrix}\\right]$"
          },
          "metadata": {},
          "execution_count": 9
        }
      ],
      "source": [
        "k"
      ]
    },
    {
      "cell_type": "code",
      "execution_count": 10,
      "metadata": {
        "id": "ZSKjXjuO_bvM",
        "outputId": "4277afb7-7657-4ae0-e770-6054c375178e",
        "colab": {
          "base_uri": "https://localhost:8080/",
          "height": 78
        }
      },
      "outputs": [
        {
          "output_type": "execute_result",
          "data": {
            "text/plain": [
              "Matrix([\n",
              "[a, d, g],\n",
              "[b, e, h],\n",
              "[c, f, i]])"
            ],
            "text/latex": "$\\displaystyle \\left[\\begin{matrix}a & d & g\\\\b & e & h\\\\c & f & i\\end{matrix}\\right]$"
          },
          "metadata": {},
          "execution_count": 10
        }
      ],
      "source": [
        "k.transpose() #transponujemy macierz k"
      ]
    },
    {
      "cell_type": "markdown",
      "metadata": {
        "id": "7EYM3Gfu_bvM"
      },
      "source": [
        "**Podwyznacznik** (minor) macierzy $A$ to wyznacznik macierzy, z której usunięto $i$-ty wiersz i $j$-tą kolumnę. Oznaczmy go $M_{ij}$."
      ]
    },
    {
      "cell_type": "code",
      "execution_count": 11,
      "metadata": {
        "id": "b_kFOHoy_bvM",
        "outputId": "72810390-1d5e-4b4a-95b0-345d777cc38c",
        "colab": {
          "base_uri": "https://localhost:8080/",
          "height": 78
        }
      },
      "outputs": [
        {
          "output_type": "execute_result",
          "data": {
            "text/plain": [
              "Matrix([\n",
              "[1, 2, 3],\n",
              "[4, 5, 6],\n",
              "[7, 8, 9]])"
            ],
            "text/latex": "$\\displaystyle \\left[\\begin{matrix}1 & 2 & 3\\\\4 & 5 & 6\\\\7 & 8 & 9\\end{matrix}\\right]$"
          },
          "metadata": {},
          "execution_count": 11
        }
      ],
      "source": [
        "# Podwyznacznik (minor) macierzy $A$ to wyznacznik macierzy, z której usunięto $i$-ty wiersz i $j$-tą kolumnę. Oznaczmy go $M_{ij}$.\n",
        "k2=sp.Matrix([[1, 2, 3], [4, 5, 6], [7, 8, 9]])\n",
        "k2"
      ]
    },
    {
      "cell_type": "code",
      "execution_count": 12,
      "metadata": {
        "id": "XD9q70C6_bvM",
        "outputId": "b6f2f4d1-29a0-4c57-833a-8b2cf52fef90",
        "colab": {
          "base_uri": "https://localhost:8080/",
          "height": 58
        }
      },
      "outputs": [
        {
          "output_type": "execute_result",
          "data": {
            "text/plain": [
              "Matrix([\n",
              "[4, 6],\n",
              "[7, 9]])"
            ],
            "text/latex": "$\\displaystyle \\left[\\begin{matrix}4 & 6\\\\7 & 9\\end{matrix}\\right]$"
          },
          "metadata": {},
          "execution_count": 12
        }
      ],
      "source": [
        "M01 = k2.minor_submatrix(0, 1) #obliczamy minor M01\n",
        "M01"
      ]
    },
    {
      "cell_type": "code",
      "execution_count": 13,
      "metadata": {
        "id": "sGb-Msbs_bvM",
        "outputId": "9a1c2b2e-42c7-4dc3-c47d-220b11b57ae7",
        "colab": {
          "base_uri": "https://localhost:8080/",
          "height": 58
        }
      },
      "outputs": [
        {
          "output_type": "execute_result",
          "data": {
            "text/plain": [
              "Matrix([\n",
              "[1, 2],\n",
              "[4, 5]])"
            ],
            "text/latex": "$\\displaystyle \\left[\\begin{matrix}1 & 2\\\\4 & 5\\end{matrix}\\right]$"
          },
          "metadata": {},
          "execution_count": 13
        }
      ],
      "source": [
        "M22 = k2.minor_submatrix(2, 2)  #obliczamy minor M22\n",
        "M22"
      ]
    },
    {
      "cell_type": "markdown",
      "metadata": {
        "id": "vSscFMU2_bvM"
      },
      "source": [
        "**Dopełnienie algebraiczne** elementu $a_{ij}= (-1)^{i+j} \\, M_{ij}$, czyli podwyznacznik pomnożony przez $(-1)^{i+j}$."
      ]
    },
    {
      "cell_type": "markdown",
      "metadata": {
        "id": "u6oZwDE8_bvN"
      },
      "source": [
        "**Rząd macierzy** to stopień największego, niezerowego minora tej macierzy. Rząd macierzy równy jest ilości liniowo niezależnych wierszy lub kolumn w macierzy."
      ]
    },
    {
      "cell_type": "code",
      "execution_count": 14,
      "metadata": {
        "id": "Gp98Ouo7_bvN",
        "outputId": "76ed5419-ec63-4a44-f73c-85b9f9b1b063",
        "colab": {
          "base_uri": "https://localhost:8080/"
        }
      },
      "outputs": [
        {
          "output_type": "execute_result",
          "data": {
            "text/plain": [
              "2"
            ]
          },
          "metadata": {},
          "execution_count": 14
        }
      ],
      "source": [
        "k2.rank()   #obliczamy rząd macierzy k2"
      ]
    },
    {
      "cell_type": "markdown",
      "metadata": {
        "id": "CcxclXTd_bvN"
      },
      "source": [
        "### Macierz odwrotna 3x3\n",
        "\n",
        "Wykorzystanie transpozycji macierzy dopełnień algebraicznych (minorów):\n",
        "\n",
        "$$K^{-1} =\n",
        "\\begin{bmatrix}\n",
        "a & b & c \\\\\n",
        "d & e & f \\\\\n",
        "g & h & i\n",
        "\\end{bmatrix}^{-1}\n",
        "= \\frac{1}{\\det(\\mathbf{K})}\n",
        "\\begin{bmatrix}\n",
        "A & B & C \\\\\n",
        "D & E & F \\\\\n",
        "G & H & I\n",
        "\\end{bmatrix}^T\n",
        "= \\frac{1}{\\det(\\mathbf{A})}\n",
        "\\begin{bmatrix}\n",
        "A & D & G \\\\\n",
        "B & E & H \\\\\n",
        "C & F & I\n",
        "\\end{bmatrix}\n",
        "$$\n",
        "\n",
        "Jeśli wyznacznik jest różny od zera, macierz jest odwracalna, a elementy macierzy pośredniej po prawej stronie powyższego wzoru są określone przez:\n",
        "\n",
        "$$\n",
        "\\begin{aligned}\n",
        "A &= det ( \\begin{bmatrix} e & f \\\\ h & i \\end{bmatrix} ) & B &= - det ( \\begin{bmatrix} d & f \\\\ g & i \\end{bmatrix} ) & C &= det ( \\begin{bmatrix} d & e \\\\ g & h \\end{bmatrix} ) \\\\\n",
        "D &= - det ( \\begin{bmatrix} b & c \\\\ h & i \\end{bmatrix} ) & E &= det ( \\begin{bmatrix} a & c \\\\ g & i \\end{bmatrix} ) & F &= - det ( \\begin{bmatrix} a & b \\\\ g & h \\end{bmatrix} ) \\\\\n",
        "G &= det ( \\begin{bmatrix} b & c \\\\ e & f \\end{bmatrix} ) & H &= - det ( \\begin{bmatrix} a & c \\\\ d & f \\end{bmatrix} ) & I &= det ( \\begin{bmatrix} a & b \\\\ d & e \\end{bmatrix} )\n",
        "\\end{aligned}\n",
        "$$\n",
        "czyli przez wyznaczniki macierzy 2x2, które powstają przez usunięcie odpowiednich wierszy i kolumn oraz przez uwzględnienie znaku $(-1)^{i+j}$."
      ]
    },
    {
      "cell_type": "markdown",
      "metadata": {
        "id": "F8QqY5ur_bvN"
      },
      "source": [
        "### Macierz odwrotna 2x2\n",
        "\n",
        "Analogicznie, dla macierzy 2x2, można obliczyć macierz odwrotną przy użyciu macierzy dopełnień algebraicznych:\n",
        "\n",
        "$$\n",
        "\\mathbf{L}^{-1} =\n",
        "\\begin{bmatrix}\n",
        "a & b \\\\\n",
        "c & d\n",
        "\\end{bmatrix}^{-1}\n",
        "= \\frac{1}{\\det(\\mathbf{L})}\n",
        "\\begin{bmatrix}\n",
        "D & C \\\\\n",
        "B & A\n",
        "\\end{bmatrix}^T\n",
        "= \\frac{1}{\\det(\\mathbf{L})}\n",
        "\\begin{bmatrix}\n",
        "D & B \\\\\n",
        "C & A\n",
        "\\end{bmatrix}\n",
        "$$\n",
        "\n",
        "gdzie $\\det(\\mathbf{L}) = ad - bc$\n",
        "\n",
        "Jeśli wyznacznik jest różny od zera to macierz jest odwracalna, a elementy macierzy pośredniej są określone jako:\n",
        "\n",
        "$$\n",
        "\\begin{aligned}\n",
        "A &= \\det \\begin{bmatrix} d \\end{bmatrix} = d, & B &= -\\det \\begin{bmatrix} b \\end{bmatrix} = -b, & C &= -\\det \\begin{bmatrix} c \\end{bmatrix} = -c, &\n",
        "D &= \\det \\begin{bmatrix} a \\end{bmatrix} = a.\n",
        "\\end{aligned}\n",
        "$$\n",
        "\n",
        "Elementy te powstają przez obliczenie wyznaczników macierzy 1x1, które powstają przez usunięcie odpowiednich wierszy i kolumn z oryginalnej macierzy 2x2 oraz przez zastosowanie odpowiednich znaków $(-1)^{i+j}$."
      ]
    },
    {
      "cell_type": "code",
      "source": [],
      "metadata": {
        "id": "1e51-Z07_7xf"
      },
      "execution_count": null,
      "outputs": []
    },
    {
      "cell_type": "markdown",
      "metadata": {
        "id": "fQyNcaGU_bvN"
      },
      "source": [
        "---\n",
        "## Zadania dla  studentów"
      ]
    },
    {
      "cell_type": "markdown",
      "metadata": {
        "id": "aslJqyiq_bvN"
      },
      "source": [
        "1. Wylicz ze wzoru macierz odwrotną do macierzy\n",
        "\n",
        "$$\n",
        "\\begin{bmatrix}\n",
        "2 & 0 & 1 \\\\\n",
        "0 & 1 & 0 \\\\\n",
        "1 & 2 & 0\n",
        "\\end{bmatrix}\n",
        "$$\n",
        "\n",
        "i sprawdź, czy wynik jest poprawny.\n",
        "\n",
        "2. Posługując się komendą `det()` ustal rząd macierzy poniżej\n",
        "$$\n",
        "A =\n",
        "\\begin{bmatrix}\n",
        "4 & -3 & 7 \\\\\n",
        "-1 & 6 & 3 \\\\\n",
        "2 & 9 & 1\n",
        "\\end{bmatrix}\n",
        "$$"
      ]
    },
    {
      "cell_type": "code",
      "source": [
        "B = sp.Matrix([[4, -3, 7],\n",
        "               [-1, 6, 3],\n",
        "               [2, 9, 1]])\n",
        "B = B.det()\n",
        "print (B)"
      ],
      "metadata": {
        "id": "pxcH6WkC_9rV",
        "outputId": "23205007-a765-451b-e50b-c1be108550c4",
        "colab": {
          "base_uri": "https://localhost:8080/"
        }
      },
      "execution_count": 4,
      "outputs": [
        {
          "output_type": "stream",
          "name": "stdout",
          "text": [
            "-252\n"
          ]
        }
      ]
    },
    {
      "cell_type": "markdown",
      "metadata": {
        "id": "90Ai3aYT_bvO"
      },
      "source": []
    }
  ],
  "metadata": {
    "kernelspec": {
      "display_name": "Python 3",
      "language": "python",
      "name": "python3"
    },
    "language_info": {
      "codemirror_mode": {
        "name": "ipython",
        "version": 3
      },
      "file_extension": ".py",
      "mimetype": "text/x-python",
      "name": "python",
      "nbconvert_exporter": "python",
      "pygments_lexer": "ipython3",
      "version": "3.11.9"
    },
    "colab": {
      "provenance": []
    }
  },
  "nbformat": 4,
  "nbformat_minor": 0
}