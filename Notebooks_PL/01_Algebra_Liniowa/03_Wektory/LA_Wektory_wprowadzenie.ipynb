{
  "cells": [
    {
      "cell_type": "markdown",
      "metadata": {
        "id": "fZ3j7e1F1cvq"
      },
      "source": [
        "# Wektory - Wprowadzenie\n",
        "\n",
        "**Wektory** są wielkościami, które posiadają zarówno wartość liczbową, jak i kierunek oraz zwrot w przestrzeni.\n",
        "Są one używane do opisu różnych wielkości fizycznych, takich jak prędkość, siła, czy natężenie pola elektrycznego.\n",
        "W przeciwieństwie do skalarów, które mają tylko wartość liczbową (np. masa, temperatura), wektory wymagają określenia kierunku.\n",
        "\n",
        "Wektor oznaczamy strzałką nad symbolem $\\vec{a}$ lub pogrubioną czcionką $\\mathbf{a}$.\n",
        "- Długość wektora można zapisać jako $|\\vec{a}|$ lub $a$.\n",
        "- Wektor o długości 1 nazywa się wektorem jednostkowym (wersorem) i zapisuje się jako $\\hat{\\mathbf{a}}= \\frac{\\vec{a}}{|\\vec{a}|}$.\n",
        "\n",
        "**Przykład:**\n",
        "\n",
        "Wektor $\\mathbf{a}= [3, 4]$ ma długość $a = 5$ i odpowiadający wersor (jednostkowy wektor wzdłuż kierunku wektora $\\mathbf{a}$) wyrażony jest przez $\\hat{\\mathbf{a}} = \\left[\\frac{3}{5}, \\frac{4}{5}\\right]$."
      ]
    },
    {
      "cell_type": "code",
      "execution_count": 1,
      "metadata": {
        "id": "TneAyug11cvu",
        "outputId": "c90f3c6e-8e8f-4949-c2d1-486dc33e2ee8",
        "colab": {
          "base_uri": "https://localhost:8080/",
          "height": 48
        }
      },
      "outputs": [
        {
          "output_type": "execute_result",
          "data": {
            "text/plain": [
              "sqrt(a_x**2 + a_y**2)"
            ],
            "text/latex": "$\\displaystyle \\sqrt{a_{x}^{2} + a_{y}^{2}}$"
          },
          "metadata": {},
          "execution_count": 1
        }
      ],
      "source": [
        "import sympy as sp  # importuj moduł sympy\n",
        "\n",
        "# Dla wektora $\\mathbf{a} = [a_x, a_y]$, długość jest podana wzorem:\n",
        "# $$ |\\mathbf{a}| = a = \\sqrt{a_x^2 + a_y^2} $$\n",
        "\n",
        "a_x, a_y = sp.symbols('a_x a_y')  # Krok 1: Zdefiniuj symboliczne zmienne a_x i a_y\n",
        "dlugosc_a = sp.sqrt(a_x**2 + a_y**2)  # Krok 2: Utwórz wzór na długość wektora a\n",
        "dlugosc_a  # Krok 3: Wyświetl wynik"
      ]
    },
    {
      "cell_type": "code",
      "execution_count": 2,
      "metadata": {
        "id": "u6L6FIhx1cvw",
        "outputId": "d0fc9a1a-063b-4c79-d8cf-ccb9d3cecd25",
        "colab": {
          "base_uri": "https://localhost:8080/",
          "height": 37
        }
      },
      "outputs": [
        {
          "output_type": "execute_result",
          "data": {
            "text/plain": [
              "5.00000000000000"
            ],
            "text/latex": "$\\displaystyle 5.0$"
          },
          "metadata": {},
          "execution_count": 2
        }
      ],
      "source": [
        "# Przypisz wartości dla a_x i a_y\n",
        "a_x = 3  # składowa x wektora\n",
        "a_y = 4  # składowa y wektora\n",
        "\n",
        "dlugosc_a = sp.sqrt(a_x**2 + a_y**2)  # Oblicz długość wektora dla a_x = 3 i a_y = 4\n",
        "dlugosc_a.evalf()  # Oblicz numerycznie długość wektora (oczekiwany wynik: 5)"
      ]
    },
    {
      "cell_type": "markdown",
      "metadata": {
        "id": "ChePuWRi1cvw"
      },
      "source": [
        "## Dodawanie wektorów\n",
        "\n",
        "Dodawanie wektorów polega na dodaniu współrzędnych wektorów o takiej samej długości.\n",
        "\n",
        "Dla dwóch wektorów $\\mathbf{a}$ i $\\mathbf{b}$ w przestrzeni $\\mathbb{R}^n$, gdzie:\n",
        "\n",
        "$$\n",
        "\\mathbf{a} = [a_1, a_2, \\dots, a_n], \\quad \\mathbf{b} = [b_1, b_2, \\dots, b_n] $$\n",
        "\n",
        "Dodawanie wektorów definiuje się następująco:\n",
        "\n",
        "$$\n",
        "\\mathbf{a} + \\mathbf{b} = [a_1 + b_1, a_2 + b_2, \\dots, a_n + b_n]\n",
        "$$\n",
        "\n",
        "## Mnożenie wektora przez skalar\n",
        "\n",
        "Mnożenie wektora przez skalar polega na pomnożeniu każdej współrzędnej wektora przez tę samą liczbę.\n",
        "\n",
        "Dla wektora $\\mathbf{a}$ i skalaru $k$:\n",
        "\n",
        "$$\n",
        "k \\mathbf{a} = [k a_1, k a_2, \\dots, k a_n]\n",
        "$$"
      ]
    },
    {
      "cell_type": "markdown",
      "metadata": {
        "id": "8bififdy1cvx"
      },
      "source": [
        "## Wektory na płaszczyźnie i w przestrzeni\n",
        "\n",
        "**Wektory w 2D:**\n",
        "\n",
        "Jeśli $\\mathbf{a} = [a_x, a_y]$, to długość jest dana wzorem $|\\mathbf{a}| = a = \\sqrt{a_x^2 + a_y^2}$\n",
        "\n",
        "**Wektory w 3D:**\n",
        "\n",
        "Jeśli $\\mathbf{a} = [a_x, a_y, a_z]$, to długość wektora wynosi $|\\mathbf{a}| = a = \\sqrt{a_x^2 + a_y^2 + a_z^2}$."
      ]
    },
    {
      "cell_type": "markdown",
      "metadata": {
        "id": "R_Pz7E221cvx"
      },
      "source": [
        "## Wektor na wykresie"
      ]
    },
    {
      "cell_type": "code",
      "execution_count": null,
      "metadata": {
        "id": "DvuIEuaA1cvx",
        "outputId": "08bafbb8-0d1d-4746-87ef-f51600074c0a"
      },
      "outputs": [
        {
          "data": {
            "image/png": "[encoded data removed]",
            "text/plain": [
              "<Figure size 640x480 with 1 Axes>"
            ]
          },
          "metadata": {},
          "output_type": "display_data"
        }
      ],
      "source": [
        "import matplotlib.pyplot as plt # import modułu matplotlib.pyplot\n",
        "\n",
        "plt.figure() # utworzenie nowego rysunku\n",
        "plt.quiver(0, 0, 3, 4, angles='xy', scale_units='xy', scale=1, color='r') # szybki sposób na rysowanie wektora quiver(x_początek, y_początek, x_koniec, y_koniec)\n",
        "plt.xlim(0, 5) # ustawienie zakresu osi x\n",
        "plt.ylim(0, 5) # ustawienie zakresu osi y\n",
        "plt.grid(True) # włączenie siatki\n",
        "plt.gca().set_aspect('equal') # ustawienie takiej samej skali na osiach x i y\n",
        "plt.show()"
      ]
    },
    {
      "cell_type": "markdown",
      "metadata": {
        "id": "v8PWwWlf1cvx"
      },
      "source": [
        "## Przykład prostej implementacji wektorów w Pythonie\n",
        "\n",
        "Dane są wektory $\\mathbf{a}=[1, 2]$ i $\\mathbf{b}=[3, 4]$ i chcemy policzyć ich sumę $\\mathbf{c}=\\mathbf{a}+\\mathbf{b}= [1+3, 2+4] = [4, 6]$"
      ]
    },
    {
      "cell_type": "code",
      "execution_count": null,
      "metadata": {
        "id": "wU8aXH2n1cvy",
        "outputId": "5618c3ee-223c-4fd1-afbf-9c98dd4c4986"
      },
      "outputs": [
        {
          "data": {
            "text/plain": [
              "[4, 6]"
            ]
          },
          "execution_count": 26,
          "metadata": {},
          "output_type": "execute_result"
        }
      ],
      "source": [
        "import sympy as sp # importuj moduł sympy\n",
        "\n",
        "a=[1, 2] # wektor a\n",
        "b=[3, 4] # wektor b\n",
        "c = [a[0] + b[0], a[1] + b[1]] # suma wektorów a i b\n",
        "c # wyświetlenie wyniku\n"
      ]
    },
    {
      "cell_type": "markdown",
      "metadata": {
        "id": "624s4ayx1cv1"
      },
      "source": [
        "## Przykład lepszej implementacji wektorów w Pythonie\n",
        "\n",
        "Wektory zapisz jako macierze kolumnowe. Wtedy dodawanie wektorów jest takie samo jak dodawanie macierzy."
      ]
    },
    {
      "cell_type": "code",
      "execution_count": 3,
      "metadata": {
        "id": "CSazS89a1cv1",
        "outputId": "6db20a33-7061-48d9-f353-f8a171f9cbaf",
        "colab": {
          "base_uri": "https://localhost:8080/",
          "height": 78
        }
      },
      "outputs": [
        {
          "output_type": "execute_result",
          "data": {
            "text/plain": [
              "Matrix([\n",
              "[12],\n",
              "[ 5],\n",
              "[18]])"
            ],
            "text/latex": "$\\displaystyle \\left[\\begin{matrix}12\\\\5\\\\18\\end{matrix}\\right]$"
          },
          "metadata": {},
          "execution_count": 3
        }
      ],
      "source": [
        "import sympy as sp\n",
        "\n",
        "# Definicje wektorów\n",
        "a = sp.Matrix([1, 2, 3])\n",
        "b = sp.Matrix([4, 5, 6])\n",
        "c= sp.Matrix([7, 0, 9])\n",
        "d= sp.Matrix([0, 2, 0])\n",
        "\n",
        "a+b+c-d # OPewna operacja dodawania i odejmowania wektorów"
      ]
    },
    {
      "cell_type": "markdown",
      "metadata": {
        "id": "RufZDpiT1cv1"
      },
      "source": [
        "## Dodawanie wektorów na wykresie\n",
        "\n",
        "Przykład: $\\mathbf{a}=[2,1]$ i $\\mathbf{b}=[1,2]$ prowadzi do wektora $\\mathbf{c}=\\mathbf{a}+\\mathbf{b}=[3,3]$."
      ]
    },
    {
      "cell_type": "code",
      "execution_count": null,
      "metadata": {
        "id": "vru5apuh1cv2",
        "outputId": "d3eb4e73-6c7c-43e1-c6ad-d6efc6867814"
      },
      "outputs": [
        {
          "data": {
            "image/png": "[encoded data removed]",
            "text/plain": [
              "<Figure size 640x480 with 1 Axes>"
            ]
          },
          "metadata": {},
          "output_type": "display_data"
        }
      ],
      "source": [
        "import matplotlib.pyplot as plt # import modułu matplotlib.pyplot #przykład dodawania wektorów w przestrzeni dwuwymiarowej\n",
        "\n",
        "plt.figure() # utworzenie nowego rysunku\n",
        "plt.quiver(0, 0, 2, 1, angles='xy', scale_units='xy', scale=1, color='r') # szybki sposób na rysowanie wektorów quiver(x_początek, y_początek, x_koniec, y_koniec)\n",
        "plt.quiver(0, 0, 1, 2, angles='xy', scale_units='xy', scale=1, color='b') # szybki sposób na rysowanie wektorów quiver(x_początek, y_początek, x_koniec, y_koniec)\n",
        "plt.quiver(0, 0, 3, 3, angles='xy', scale_units='xy', scale=1, color='g') # szybki sposób na rysowanie wektorów quiver(x_początek, y_początek, x_koniec, y_koniec)\n",
        "plt.xlim(-1, 4) # ustawienie zakresu osi x\n",
        "plt.ylim(-1, 4) # ustawienie zakresu osi y\n",
        "plt.grid(True) # włączenie siatki\n",
        "plt.gca().set_aspect('equal') # ustawienie takiej samej skali na osiach x i y\n",
        "plt.show()"
      ]
    },
    {
      "cell_type": "markdown",
      "metadata": {
        "id": "Jivh1AdC1cv2"
      },
      "source": [
        "## Układy współrzędnych na płaszczyźnie i w przestrzeni\n",
        "\n",
        "**Układ współrzędnych kartezjańskich** jest podstawowym układem współrzędnych, w którym punkty w przestrzeni są określane przez ich odległości od ustalonych osi: $x$, $y$ (dla 2D) i $z$ (dla 3D).\n",
        "\n",
        "- W 2D, każdy punkt można zapisać jako $(x, y)$.\n",
        "- W 3D, punkty mają postać $(x, y, z)$.\n",
        "\n",
        "**Układ biegunowy** jest używany w 2D i definiuje punkt poprzez odległość od punktu początkowego (r) oraz kąt (θ) względem osi odniesienia.\n",
        "\n",
        "**Układ sferyczny** jest używany w 3D i definiuje punkt poprzez odległość od punktu początkowego (r), kąt azymutu (θ) i kąt elewacji (φ).\n",
        "\n",
        "Wektory można reprezentować za pomocą składowych w układzie kartezjańskim, gdzie każda składowa odpowiada odległości punktu od odpowiedniej osi współrzędnych.\n",
        "\n",
        "- Dla wektora w przestrzeni dwuwymiarowej: $\\mathbf{a} = [a_x, a_y]= a_x\\hat{\\mathbf{i}} + a_y\\hat{\\mathbf{j}}$\n",
        "- Dla wektora w przestrzeni trójwymiarowej:$\\mathbf{a} = [a_x, a_y, a_z] = a_x\\hat{\\mathbf{i}} + a_y\\hat{\\mathbf{j}} + a_z\\hat{\\mathbf{k}}$\n",
        "\n",
        "## Baza\n",
        "\n",
        "**Baza** wektorów to zbiór wektorów, które rozpięcie tworzy przestrzeń wektorową. W przestrzeni kartezjańskiej standardową bazą są wektory $\\hat{\\mathbf{i}}, \\hat{\\mathbf{j}}, \\hat{\\mathbf{k}}$.\n",
        "\n",
        "Dla 2D:\n",
        "\n",
        "$$\n",
        "\\hat{\\mathbf{i}} = [1, 0], \\quad \\hat{\\mathbf{j}} = [0, 1]\n",
        "$$\n",
        "\n",
        "Dla 3D:\n",
        "\n",
        "$$\n",
        "\\hat{\\mathbf{i}} = [1, 0, 0], \\quad \\hat{\\mathbf{j}} = [0, 1, 0], \\quad \\hat{\\mathbf{k}} = [0, 0, 1]\n",
        "$$\n",
        "\n",
        "Tak zdefiniowane wektory bazowe są jednostkowe i prostopadłe do siebie.\n",
        "\n",
        "### Znajdowanie współrzędnych wektora w nowej bazie\n",
        "\n",
        "Aby znaleźć współrzędne wektora $\\mathbf{v}$ w nowej bazie $\\{\\mathbf{b_1}, \\mathbf{b_2}, \\mathbf{b_3}\\}$, należy wyrazić $\\mathbf{v}$ jako kombinację liniową wektorów bazy.\n",
        "\n",
        "$$\n",
        "\\mathbf{v} = c_1 \\mathbf{b_1} + c_2 \\mathbf{b_2} + c_3 \\mathbf{b_3}\n",
        "$$\n",
        "\n",
        "Współczynniki $c_1, c_2, c_3$ są współrzędnymi wektora $\\mathbf{v}$ w nowej bazie."
      ]
    },
    {
      "cell_type": "markdown",
      "metadata": {
        "id": "wF-_4Ihu1cv3"
      },
      "source": [
        "---\n",
        "\n",
        "## Zadania dla studentów\n",
        "\n",
        "A. Przez jaką liczbę należy pomnożyć wektor $\\mathbf{a} = [3, 4]$, aby jego długość była równa 1?\n",
        "\n",
        "B. Policz długość wektora $\\mathbf{b} = [1, 1]$ i znajdź wersor tego wektora.\n",
        "\n",
        "C. Zaprezentuj wektor i wersor z poprzedniego zadania na wykresie.\n",
        "\n",
        "D. Policz długość wektora $\\mathbf{c} = [1, 2, 3]$ i znajdź wersor tego wektora.\n",
        "\n",
        "E. Znajdź współrzędne kartezjańskiego wektora $\\mathbf{v} = [2, 3, 4]$ w bazie $\\{\\mathbf{b_1} = [1, 0, 1], \\mathbf{b_2} = [0, 1, 0], \\mathbf{b_3} = [1, 0, -1]\\}$."
      ]
    },
    {
      "cell_type": "code",
      "source": [
        "#A\n",
        "\n",
        "import sympy as sp\n",
        "\n",
        "a_x = 3  # означаем x\n",
        "a_y = 4  # означаем y\n",
        "\n",
        "dlugosc_a = sp.sqrt(a_x**2 + a_y**2)  # посчитаем протяженность вектора\n",
        "dlugosc_a.evalf()  # ожидаемый результат при выводе\n",
        "\n",
        "wynik = 1/5\n",
        "wynik"
      ],
      "metadata": {
        "colab": {
          "base_uri": "https://localhost:8080/"
        },
        "id": "_igeOp_o198d",
        "outputId": "7259b9e5-5f66-4b00-edf0-674bdd1461e5"
      },
      "execution_count": 7,
      "outputs": [
        {
          "output_type": "execute_result",
          "data": {
            "text/plain": [
              "0.2"
            ]
          },
          "metadata": {},
          "execution_count": 7
        }
      ]
    },
    {
      "cell_type": "code",
      "source": [
        "\n",
        "#B\n",
        "\n",
        "import sympy as sp\n",
        "\n",
        "b_x = 1  # означаем вектор x\n",
        "b_y = 1  # означаем вектор y\n",
        "\n",
        "dlugosc_b = sp.sqrt(b_x**2 + b_y**2)  # посчитаем протяженность вектора, чтобы найти его версор\n",
        "dlugosc_b.evalf()\n",
        "\n",
        "wersor = [b_x/dlugosc_b, b_y/dlugosc_b] # найдем версор вектора\n",
        "wersor"
      ],
      "metadata": {
        "colab": {
          "base_uri": "https://localhost:8080/"
        },
        "id": "SSxdC88v4mtN",
        "outputId": "72747055-569c-425b-baac-d2e98291166a"
      },
      "execution_count": 13,
      "outputs": [
        {
          "output_type": "execute_result",
          "data": {
            "text/plain": [
              "[sqrt(2)/2, sqrt(2)/2]"
            ]
          },
          "metadata": {},
          "execution_count": 13
        }
      ]
    },
    {
      "cell_type": "code",
      "source": [
        "#C\n",
        "\n",
        "import matplotlib.pyplot as plt\n",
        "import numpy as np\n",
        "\n",
        "# Определим вектор и версор\n",
        "b = np.array([1, 1])\n",
        "versor_b = b / np.linalg.norm(b)\n",
        "\n",
        "# Создадим график\n",
        "plt.figure(figsize=(6, 6))\n",
        "plt.axhline(0, color='grey', linewidth=0.5)\n",
        "plt.axvline(0, color='grey', linewidth=0.5)\n",
        "\n",
        "# Начертим вектор b\n",
        "plt.quiver(0, 0, b[0], b[1], angles='xy', scale_units='xy', scale=1, color='blue', label='Wektor b')\n",
        "\n",
        "# Начертим версор вектора b\n",
        "plt.quiver(0, 0, versor_b[0], versor_b[1], angles='xy', scale_units='xy', scale=1, color='red', label='Wersor b')\n",
        "\n",
        "# Определение графика и его значений\n",
        "plt.xlim(-0.5, 1.5)\n",
        "plt.ylim(-0.5, 1.5)\n",
        "plt.xlabel('X')\n",
        "plt.ylabel('Y')\n",
        "plt.title('Wektor b i jego wersor')\n",
        "plt.legend()\n",
        "plt.grid(True)\n",
        "plt.gca().set_aspect('equal', adjustable='box')\n",
        "plt.show()\n"
      ],
      "metadata": {
        "colab": {
          "base_uri": "https://localhost:8080/",
          "height": 564
        },
        "id": "gtBOFNg05WFa",
        "outputId": "9e8f1bcd-c636-4057-fc99-0c76e8baa123"
      },
      "execution_count": 14,
      "outputs": [
        {
          "output_type": "display_data",
          "data": {
            "text/plain": [
              "<Figure size 600x600 with 1 Axes>"
            ],
            "image/png": "[encoded data removed]"
          },
          "metadata": {}
        }
      ]
    },
    {
      "cell_type": "code",
      "source": [
        "#D\n",
        "\n",
        "import numpy as np\n",
        "\n",
        "# Задаем вектор c\n",
        "c = np.array([1, 2, 3])\n",
        "\n",
        "# Вычисляем длину вектора (норму)\n",
        "length_c = np.linalg.norm(c) #1**2+2**2+3**2 = sqrt14\n",
        "\n",
        "# Вычисляем единичный вектор (версор)\n",
        "versor_vector_c = c / length_c #1/sqrt14, 2/sqrt14, 3/sqrt14\n",
        "\n",
        "# Выводим результаты\n",
        "print(\"Длина вектора c: {:.3f}\".format(length_c))\n",
        "print(\"Вектор-версор c:\", np.round(versor_vector_c, 3))"
      ],
      "metadata": {
        "colab": {
          "base_uri": "https://localhost:8080/"
        },
        "id": "nqh2Ihgq6kh0",
        "outputId": "5329bc67-9b41-41a2-bd1d-6c5dc630e393"
      },
      "execution_count": 21,
      "outputs": [
        {
          "output_type": "stream",
          "name": "stdout",
          "text": [
            "Длина вектора c: 3.742\n",
            "Вектор-версор c: [0.267 0.535 0.802]\n"
          ]
        }
      ]
    },
    {
      "cell_type": "code",
      "source": [
        "#D\n",
        "\n",
        "import sympy as sp\n",
        "\n",
        "c_x = 1  # означаем вектор x\n",
        "c_y = 2  # означаем вектор y\n",
        "c_z = 3  # означаем вектор z\n",
        "\n",
        "dlugosc_c = sp.sqrt(c_x**2 + c_y**2 + c_z**2)  # посчитаем протяженность вектора, чтобы найти его версор\n",
        "dlugosc_c.evalf()\n",
        "\n",
        "wersor = [c_x/dlugosc_c, c_y/dlugosc_c, c_z/dlugosc_c] # найдем версор вектора\n",
        "wersor\n",
        "print (dlugosc_c.evalf(4))\n",
        "print (wersor)"
      ],
      "metadata": {
        "id": "cBIFAGzOWLJu",
        "outputId": "39a784ee-f12c-4bb5-82fd-38592a1c4721",
        "colab": {
          "base_uri": "https://localhost:8080/"
        }
      },
      "execution_count": 24,
      "outputs": [
        {
          "output_type": "stream",
          "name": "stdout",
          "text": [
            "3.742\n",
            "[sqrt(14)/14, sqrt(14)/7, 3*sqrt(14)/14]\n"
          ]
        }
      ]
    },
    {
      "cell_type": "markdown",
      "metadata": {
        "id": "PdksZcnl1cv3"
      },
      "source": []
    }
  ],
  "metadata": {
    "kernelspec": {
      "display_name": "Python 3",
      "language": "python",
      "name": "python3"
    },
    "language_info": {
      "codemirror_mode": {
        "name": "ipython",
        "version": 3
      },
      "file_extension": ".py",
      "mimetype": "text/x-python",
      "name": "python",
      "nbconvert_exporter": "python",
      "pygments_lexer": "ipython3",
      "version": "3.11.9"
    },
    "colab": {
      "provenance": []
    }
  },
  "nbformat": 4,
  "nbformat_minor": 0
}