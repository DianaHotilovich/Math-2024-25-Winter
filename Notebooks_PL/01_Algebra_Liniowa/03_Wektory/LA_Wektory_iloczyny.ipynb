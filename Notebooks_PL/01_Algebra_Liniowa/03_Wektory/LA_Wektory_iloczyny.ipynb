{
  "cells": [
    {
      "cell_type": "markdown",
      "metadata": {
        "id": "WhFP0SW_JURC"
      },
      "source": [
        "# Wektory - Iloczyn skalarny, wektorowy, mieszany"
      ]
    },
    {
      "cell_type": "markdown",
      "metadata": {
        "id": "iCOJzPyIJURD"
      },
      "source": [
        "\n",
        "## Iloczyn skalarny\n",
        "\n",
        "Iloczyn skalarny (zwany również iloczynem wewnętrznym) dwóch wektorów to operacja, która zwraca skalarną wartość. Jest definiowany jako suma iloczynów odpowiadających sobie współrzędnych dwóch wektorów.\n",
        "\n",
        "Dla dwóch wektorów $\\mathbf{a}$ i $\\mathbf{b}$ w przestrzeni $\\mathbb{R}^n$, gdzie:\n",
        "\n",
        "$$\n",
        "\\mathbf{a} = [a_1, a_2, \\dots, a_n], \\quad \\mathbf{b} = [b_1, b_2, \\dots, b_n]\n",
        "$$\n",
        "\n",
        "Iloczyn skalarny definiuje się następująco:\n",
        "\n",
        "$$\n",
        "\\mathbf{a} \\cdot \\mathbf{b} = a_1b_1 + a_2b_2 + \\dots + a_nb_n = \\sum_{i=1}^{n} a_i b_i\n",
        "$$\n",
        "\n",
        "Przykład dla przestrzeni trójwymiarowej ($ \\mathbb{R}^3 $):\n",
        "\n",
        "Dla wektorów $\\mathbf{a} = [a_1, a_2, a_3]$ oraz $\\mathbf{b} = [b_1, b_2, b_3]$, iloczyn skalarny to:\n",
        "\n",
        "$$\n",
        "\\mathbf{a} \\cdot \\mathbf{b} = a_1b_1 + a_2b_2 + a_3b_3\n",
        "$$\n",
        "\n",
        "Iloczyn skalarny zwraca liczbę, która jest miarą \"podobieństwa kierunku\" dwóch wektorów. Jeśli $\\mathbf{a} \\cdot \\mathbf{b} = 0$, to wektory są prostopadłe.\n",
        "\n",
        "Alternatywnie, iloczyn skalarny można zapisać jako:\n",
        "\n",
        "$$\n",
        "\\mathbf{a} \\cdot \\mathbf{b} = \\|\\mathbf{a}\\| \\|\\mathbf{b}\\| \\cos(\\theta),\n",
        "$$\n",
        "czyli iloczyn długości wektorów $\\mathbf{a}$ i $\\mathbf{b}$ pomnożony przez cosinus kąta między nimi."
      ]
    },
    {
      "cell_type": "markdown",
      "metadata": {
        "id": "SheKKWFCJURE"
      },
      "source": [
        "## Iloczyn wektorowy\n",
        "\n",
        "Iloczyn wektorowy (zwany również iloczynem zewnętrznym) to operacja, która zwraca nowy wektor prostopadły do dwóch wektorów wyjściowych. Jest zdefiniowany tylko w przestrzeni trójwymiarowej $ \\mathbb{R}^3 $.\n",
        "\n",
        "Dla dwóch wektorów $ \\mathbf{a} = [a_1, a_2, a_3] $ oraz $ \\mathbf{b} = [b_1, b_2, b_3] $, iloczyn wektorowy $ \\mathbf{a} \\times \\mathbf{b} $ definiuje się jako:\n",
        "\n",
        "$$ \\mathbf{a} \\times \\mathbf{b} =\n",
        "\\begin{vmatrix}\n",
        "\\mathbf{i} & \\mathbf{j} & \\mathbf{k} \\\\\n",
        "a_1 & a_2 & a_3 \\\\\n",
        "b_1 & b_2 & b_3\n",
        "\\end{vmatrix}\n",
        "$$\n",
        "\n",
        "Gdzie $ \\mathbf{i}, \\mathbf{j}, \\mathbf{k} $ to wektory jednostkowe wzdłuż osi $ x, y, z $. Dość zabawnie, aby policzyć iloczyny wektorowy i otrzymać finalny wektor używamy wyznacznika (skalara) z macierzy (tensor drugiego rzędu), wierszami której są wektory bazowe (wektory) i składowe wektorów (skalary).\n",
        "\n",
        "Iloczyn wektorowy można zapisać w postaci rozwiniętej:\n",
        "\n",
        "$$ \\mathbf{a} \\times \\mathbf{b} = \\left( a_2b_3 - a_3b_2 \\right)\\mathbf{i} - \\left( a_1b_3 - a_3b_1 \\right)\\mathbf{j} + \\left( a_1b_2 - a_2b_1 \\right)\\mathbf{k} $$\n",
        "\n",
        "Wynikiem iloczynu wektorowego jest nowy wektor:\n",
        "\n",
        "$$ \\mathbf{c} = \\mathbf{a} \\times \\mathbf{b} = [a_2b_3 - a_3b_2, a_3b_1 - a_1b_3, a_1b_2 - a_2b_1] $$\n",
        "\n",
        "Iloczyn wektorowy zwraca wektor $\\mathbf{c}$ prostopadły do płaszczyzny wyznaczonej przez $ \\mathbf{a} $ i $ \\mathbf{b} $, a jego długość jest równa powierzchni równoległoboku, którego boki są wyznaczone przez wektory $ \\mathbf{a} $ i $ \\mathbf{b} $\n",
        "$$\n",
        "|\\mathbf{c}| = |\\mathbf{a}| |\\mathbf{b}| \\sin \\theta\n",
        "$$\n",
        "\n",
        "gdzie $\\theta$ jest kątem między wektorami. Kierunek wektora $\\vec{c}$ określa reguła prawej dłoni."
      ]
    },
    {
      "cell_type": "markdown",
      "metadata": {
        "id": "44kp7G1SJURE"
      },
      "source": [
        "## Iloczyn mieszany\n",
        "\n",
        "Iloczyn mieszany trzech wektorów $\\mathbf{a}, \\mathbf{b}, \\mathbf{c}$ jest definiowany jako:\n",
        "\n",
        "$$\n",
        "\\mathbf{a} \\cdot \\left( \\mathbf{b} \\times \\mathbf{c} \\right)\n",
        "$$\n",
        "\n",
        "Jest to równoważne iloczynowi skalarnemu $\\mathbf{a} \\times \\left( \\mathbf{b} \\times \\mathbf{c} \\right)$.\n",
        "\n",
        "Iloczyn mieszany jest równy zero, jeśli wektory $\\mathbf{a}, \\mathbf{b}, \\mathbf{c}$ są współliniowe lub równoległe.\n",
        "\n",
        "Objętość równoległościanu wyznaczonego przez trzy wektory $\\mathbf{a}, \\mathbf{b}, \\mathbf{c}$ jest równa wartości bezwzględnej iloczynu mieszanej tych wektorów."
      ]
    },
    {
      "cell_type": "markdown",
      "metadata": {
        "id": "SVZeJrxYJURF"
      },
      "source": [
        "## Implementacja"
      ]
    },
    {
      "cell_type": "code",
      "execution_count": 1,
      "metadata": {
        "id": "-RrX--d7JURF"
      },
      "outputs": [],
      "source": [
        "import sympy as sp\n",
        "# Definicje wektorów\n",
        "a = sp.Matrix([1, 2, 3])\n",
        "b = sp.Matrix([4, 5, 6])\n",
        "c= sp.Matrix([7, 0, 9])\n",
        "d= sp.Matrix([0, 2, 0])"
      ]
    },
    {
      "cell_type": "code",
      "execution_count": 2,
      "metadata": {
        "id": "dn4-Sww0JURG",
        "outputId": "95f0dc4c-b9e4-4040-907d-eb27d267fd1d",
        "colab": {
          "base_uri": "https://localhost:8080/",
          "height": 78
        }
      },
      "outputs": [
        {
          "output_type": "execute_result",
          "data": {
            "text/plain": [
              "Matrix([\n",
              "[7],\n",
              "[0],\n",
              "[9]])"
            ],
            "text/latex": "$\\displaystyle \\left[\\begin{matrix}7\\\\0\\\\9\\end{matrix}\\right]$"
          },
          "metadata": {},
          "execution_count": 2
        }
      ],
      "source": [
        "# wyświetlenie wektora c\n",
        "c"
      ]
    },
    {
      "cell_type": "code",
      "execution_count": 3,
      "metadata": {
        "id": "isatNjkTJURG",
        "outputId": "7cc3c9ea-2f1c-482d-d5a3-1bbe1c2e86de",
        "colab": {
          "base_uri": "https://localhost:8080/",
          "height": 78
        }
      },
      "outputs": [
        {
          "output_type": "execute_result",
          "data": {
            "text/plain": [
              "Matrix([\n",
              "[5],\n",
              "[7],\n",
              "[9]])"
            ],
            "text/latex": "$\\displaystyle \\left[\\begin{matrix}5\\\\7\\\\9\\end{matrix}\\right]$"
          },
          "metadata": {},
          "execution_count": 3
        }
      ],
      "source": [
        "# dodawanie wektorów a i b\n",
        "a+b"
      ]
    },
    {
      "cell_type": "code",
      "execution_count": 4,
      "metadata": {
        "id": "b8izNDe7JURH",
        "outputId": "782edbce-2ce4-4055-e0fc-d2df2db1694c",
        "colab": {
          "base_uri": "https://localhost:8080/"
        }
      },
      "outputs": [
        {
          "output_type": "execute_result",
          "data": {
            "text/plain": [
              "True"
            ]
          },
          "metadata": {},
          "execution_count": 4
        }
      ],
      "source": [
        "# iloczyn skalarny a i b\n",
        "(1*4+2*5+3*6)==a.dot(b)"
      ]
    },
    {
      "cell_type": "code",
      "execution_count": 5,
      "metadata": {
        "id": "FC3goAP1JURH",
        "outputId": "ff71fb54-a336-4f12-c916-a5f53053ae77",
        "colab": {
          "base_uri": "https://localhost:8080/"
        }
      },
      "outputs": [
        {
          "output_type": "execute_result",
          "data": {
            "text/plain": [
              "True"
            ]
          },
          "metadata": {},
          "execution_count": 5
        }
      ],
      "source": [
        "#iloczyn wektorowy a i c\n",
        "# a = [1, 2, 3]\n",
        "# c= [7, 0, 9]\n",
        "\n",
        "# Pomocniczo zapiszmy wektory jako macierze 3x3\n",
        "# i, j, k\n",
        "# 1, 2, 3\n",
        "# 7, 0, 9\n",
        "\n",
        "# Teraz\n",
        "comp1 = (2*9-3*0)\n",
        "comp2 = -(1*9-3*7)\n",
        "comp3 = (1*0-2*7)\n",
        "\n",
        "# Wynik\n",
        "sp.Matrix([comp1, comp2, comp3])==a.cross(c)"
      ]
    },
    {
      "cell_type": "code",
      "execution_count": 6,
      "metadata": {
        "id": "6b9ePDZ3JURI",
        "outputId": "9f10de02-ac36-41e2-fc87-97c4c4e20b1d",
        "colab": {
          "base_uri": "https://localhost:8080/"
        }
      },
      "outputs": [
        {
          "output_type": "execute_result",
          "data": {
            "text/plain": [
              "True"
            ]
          },
          "metadata": {},
          "execution_count": 6
        }
      ],
      "source": [
        "# Prostopadłość wektorów\n",
        "# c= [7, 0, 9]\n",
        "# d= [0, 2, 0]\n",
        "\n",
        "# Jeśli iloczyn skalarny wektorów jest równy 0, to znaczy, że są one prostopadłe\n",
        "iloczyn_skalarny = 7*0+0*2+9*0\n",
        "iloczyn_skalarny==0"
      ]
    },
    {
      "cell_type": "markdown",
      "metadata": {
        "id": "jynlLvFsJURI"
      },
      "source": [
        "## Zastosowania\n",
        "\n",
        "### Obliczanie kąta między wektorami\n",
        "\n",
        "$$\n",
        "\\cos \\theta = \\frac{\\mathbf{a} \\cdot \\mathbf{b}}{\\|\\mathbf{a}\\| \\|\\mathbf{b}\\|}\n",
        "$$\n",
        "\n",
        "### Sprawdzanie prostopadłości wektorów\n",
        "\n",
        "Wektory $\\mathbf{a}$ i $\\mathbf{b}$ są prostopadłe, jeśli ich iloczyn skalarny wynosi zero:\n",
        "$$\n",
        "\\mathbf{a} \\cdot \\mathbf{b} = 0\n",
        "\\quad \\Leftrightarrow \\quad\n",
        " \\mathbf{a} \\perp \\mathbf{b}\n",
        "$$\n",
        "\n",
        "### Znajdowanie rzutów wektorów na inne wektory\n",
        "\n",
        "$$\n",
        "\\text{Rzut} = \\frac{\\mathbf{a} \\cdot \\mathbf{b}}{\\|\\mathbf{b}\\|}\n",
        "$$\n",
        "\n",
        "### Obliczanie pracy wykonanej przez siłę w fizyce\n",
        "\n",
        "Dla siły $\\mathbf{F} = (F_x, F_y, F_z)$ działającej wzdłuż przemieszczenia $\\mathbf{d} = (d_x, d_y, d_z)$, praca obliczana jest zgodnie ze wzorem:\n",
        "\n",
        "$$\n",
        "W = \\mathbf{F} \\cdot \\mathbf{d} = |\\mathbf{F}| |\\mathbf{d}| \\cos \\theta = F_x d_x + F_y d_y + F_z d_z\n",
        "$$"
      ]
    },
    {
      "cell_type": "markdown",
      "metadata": {
        "id": "oJ-Kk9mfJURI"
      },
      "source": [
        "### Moment siły\n",
        "\n",
        "W fizyce: moment siły (moment obrotowy) to iloczyn wektorowy wektora siły i ramienia:\n",
        "\n",
        "$$\n",
        "\\mathbf{M} = \\mathbf{r} \\times \\mathbf{F}\n",
        "$$\n",
        "\n",
        "### Obliczanie pola równoległoboku\n",
        "\n",
        "Pole równoległoboku rozpiętego na dwóch wektorach:\n",
        "\n",
        "$$\n",
        "\\text{Area}_{r} = \\mathbf{a} \\times \\mathbf{b} = |\\mathbf{a}| |\\mathbf{b}| \\sin \\theta\n",
        "$$\n",
        "\n",
        "### Obliczanie pola trójkąta\n",
        "\n",
        "Pole trójkąta rozpiętego na dwóch wektorach $\\mathbf{a}$ i $\\mathbf{b}$:\n",
        "\n",
        "$$\n",
        "\\text{Area}_{t} = \\frac{1}{2} |\\mathbf{a} \\times \\mathbf{b}|\n",
        "$$"
      ]
    },
    {
      "cell_type": "markdown",
      "metadata": {
        "id": "W3tbT9_aJURI"
      },
      "source": [
        "### Obliczanie objętości równoległościanów i czworościanów\n",
        "\n",
        "Iloczyn mieszany wektorów jest używany do obliczania objętości równoległościanów i czworościanów. Dla trzech wektorów **$\\mathbf{a}$**, **$\\mathbf{b}$** i **$\\mathbf{c}$**, objętość równoległościanu jest dana wzorem:\n",
        "\n",
        "$$\n",
        "V = |\\mathbf{a} \\cdot (\\mathbf{b} \\times \\mathbf{c})|\n",
        "$$\n",
        "(Uwaga: **| |** oznacza tutaj wartość bezwzględną, a nie długość!)\n",
        "\n",
        "### Sprawdzanie współpłaszczyznowości trzech wektorów\n",
        "\n",
        "Jeśli iloczyn mieszany trzech wektorów jest równy zeru, oznacza to, że wektory są współpłaszczyznowe. W przeciwnym razie, tworzą one czworościan."
      ]
    },
    {
      "cell_type": "markdown",
      "metadata": {
        "id": "qCTx6GcSJURI"
      },
      "source": [
        "---\n",
        "\n",
        "## Zadania dla studentów\n",
        "\n",
        "A. Zrealizuj dodawanie wektora $[2, 1]$ do wektora $[-1, 1]$. Zaznacz oba wektory oraz ich sumę na wykresie.\n",
        "\n",
        "B. Policz pole trójkąta rozpiętego na wektorach $[2, 1]$ i $[-1, 1]$.\n",
        "\n",
        "C. Policz objętość równoległościanu rozpiętego na wektorach $[2, 1]$, $[-1, 1]$ i $[1, 2]$.\n",
        "\n",
        "D. Sprawdź, czy wektory $[2, 1]$ i $[-1, 1]$ są prostopadłe.\n",
        "\n",
        "E. Policz kąt w stopniach między wektorami $[4,2,1]$ a $[1,3,2]$.\n",
        "\n",
        "F. Dla wektorów trójwymiarowych: $\\mathbf{a}=[a_x, a_y, a_z]$, $\\mathbf{b}=[b_x, b_y, b_z]$, $\\mathbf{c}=[c_x, c_y, c_z]$, udowodnij, że spełniona jest tożsamość:\n",
        "\n",
        "$$\n",
        "\\mathbf{a} \\times (\\mathbf{b} \\times \\mathbf{c}) = (\\mathbf{a} \\cdot \\mathbf{c}) \\mathbf{b} - (\\mathbf{a} \\cdot \\mathbf{b}) \\mathbf{c}.\n",
        "$$"
      ]
    },
    {
      "cell_type": "code",
      "source": [
        "import sympy as sp\n",
        "# Definicje wektorów\n",
        "a = sp.Matrix([2, 1])\n",
        "b = sp.Matrix([-1, 1])"
      ],
      "metadata": {
        "id": "7F7foUIkyTE2"
      },
      "execution_count": 16,
      "outputs": []
    },
    {
      "cell_type": "code",
      "source": [
        "a"
      ],
      "metadata": {
        "id": "B4feSLWZyW3x",
        "outputId": "2541da47-a93d-4dce-cd09-f1f58e120e14",
        "colab": {
          "base_uri": "https://localhost:8080/",
          "height": 58
        }
      },
      "execution_count": 17,
      "outputs": [
        {
          "output_type": "execute_result",
          "data": {
            "text/plain": [
              "Matrix([\n",
              "[2],\n",
              "[1]])"
            ],
            "text/latex": "$\\displaystyle \\left[\\begin{matrix}2\\\\1\\end{matrix}\\right]$"
          },
          "metadata": {},
          "execution_count": 17
        }
      ]
    },
    {
      "cell_type": "code",
      "source": [
        "b"
      ],
      "metadata": {
        "id": "PYddRrKzyYUD",
        "outputId": "227acd49-1aed-4707-d101-c8b1539de8a2",
        "colab": {
          "base_uri": "https://localhost:8080/",
          "height": 58
        }
      },
      "execution_count": 18,
      "outputs": [
        {
          "output_type": "execute_result",
          "data": {
            "text/plain": [
              "Matrix([\n",
              "[-1],\n",
              "[ 1]])"
            ],
            "text/latex": "$\\displaystyle \\left[\\begin{matrix}-1\\\\1\\end{matrix}\\right]$"
          },
          "metadata": {},
          "execution_count": 18
        }
      ]
    },
    {
      "cell_type": "code",
      "source": [
        "# dodawanie wektorów a i b\n",
        "a+b"
      ],
      "metadata": {
        "id": "9XGHN_GvydJq",
        "outputId": "00a3d439-f024-4a1b-a602-08eb35f2bb17",
        "colab": {
          "base_uri": "https://localhost:8080/",
          "height": 58
        }
      },
      "execution_count": 19,
      "outputs": [
        {
          "output_type": "execute_result",
          "data": {
            "text/plain": [
              "Matrix([\n",
              "[1],\n",
              "[2]])"
            ],
            "text/latex": "$\\displaystyle \\left[\\begin{matrix}1\\\\2\\end{matrix}\\right]$"
          },
          "metadata": {},
          "execution_count": 19
        }
      ]
    },
    {
      "cell_type": "code",
      "source": [
        "import matplotlib.pyplot as plt\n",
        "import numpy as np\n",
        "\n",
        "# Определяем векторы\n",
        "vector1 = np.array([2, 1])\n",
        "vector2 = np.array([-1, 1])\n",
        "\n",
        "# Сумма векторов\n",
        "sum_vector = vector1 + vector2\n",
        "\n",
        "# Создаем график\n",
        "plt.figure()\n",
        "\n",
        "# Рисуем вектор [2, 1]\n",
        "plt.arrow(0, 0, vector1[0], vector1[1], head_width=0.1, head_length=0.1, color='r', length_includes_head=True, label='[2, 1]')\n",
        "\n",
        "# Рисуем вектор [-1, 1]\n",
        "plt.arrow(0, 0, vector2[0], vector2[1], head_width=0.1, head_length=0.1, color='b', length_includes_head=True, label='[-1, 1]')\n",
        "\n",
        "# Рисуем сумму векторов [1, 2]\n",
        "plt.arrow(0, 0, sum_vector[0], sum_vector[1], head_width=0.1, head_length=0.1, color='g', length_includes_head=True, label='Sum [1, 2]')\n",
        "\n",
        "# Настройки осей\n",
        "plt.xlim(-2, 3)\n",
        "plt.ylim(-1, 3)\n",
        "plt.xlabel('X')\n",
        "plt.ylabel('Y')\n",
        "plt.axhline(0, color='black',linewidth=0.5)\n",
        "plt.axvline(0, color='black',linewidth=0.5)\n",
        "plt.grid()\n",
        "\n",
        "# Добавляем легенду\n",
        "plt.legend(['[2, 1]', '[-1, 1]', 'Sum [1, 2]'])\n",
        "plt.gca().set_aspect('equal', adjustable='box')\n",
        "\n",
        "# Отображаем график\n",
        "plt.show()\n"
      ],
      "metadata": {
        "id": "EFLHc6rPyt5Y",
        "outputId": "96043300-9a6a-4826-e42c-5d3ecbad733d",
        "colab": {
          "base_uri": "https://localhost:8080/",
          "height": 455
        }
      },
      "execution_count": 21,
      "outputs": [
        {
          "output_type": "display_data",
          "data": {
            "text/plain": [
              "<Figure size 640x480 with 1 Axes>"
            ],
            "image/png": "[encoded data removed]"
          },
          "metadata": {}
        }
      ]
    },
    {
      "cell_type": "code",
      "source": [
        "#B\n",
        "\n",
        "import sympy as sp\n",
        "# Definicje wektorów\n",
        "a = sp.Matrix([2, 1])\n",
        "b = sp.Matrix([-1, 1])"
      ],
      "metadata": {
        "id": "FvCSZz_j09Xd"
      },
      "execution_count": 60,
      "outputs": []
    },
    {
      "cell_type": "code",
      "source": [
        "a"
      ],
      "metadata": {
        "id": "snQt1Q3d1FAx",
        "outputId": "ca07213d-83ff-457d-a77d-eed54d9ba5d7",
        "colab": {
          "base_uri": "https://localhost:8080/",
          "height": 58
        }
      },
      "execution_count": 61,
      "outputs": [
        {
          "output_type": "execute_result",
          "data": {
            "text/plain": [
              "Matrix([\n",
              "[2],\n",
              "[1]])"
            ],
            "text/latex": "$\\displaystyle \\left[\\begin{matrix}2\\\\1\\end{matrix}\\right]$"
          },
          "metadata": {},
          "execution_count": 61
        }
      ]
    },
    {
      "cell_type": "code",
      "source": [
        "b"
      ],
      "metadata": {
        "id": "zC-uu80_1Fri",
        "outputId": "f5b6e283-6ef6-42eb-a006-c4a1ecfb9811",
        "colab": {
          "base_uri": "https://localhost:8080/",
          "height": 58
        }
      },
      "execution_count": 62,
      "outputs": [
        {
          "output_type": "execute_result",
          "data": {
            "text/plain": [
              "Matrix([\n",
              "[-1],\n",
              "[ 1]])"
            ],
            "text/latex": "$\\displaystyle \\left[\\begin{matrix}-1\\\\1\\end{matrix}\\right]$"
          },
          "metadata": {},
          "execution_count": 62
        }
      ]
    },
    {
      "cell_type": "code",
      "source": [
        "# Создаем матрицу из векторов\n",
        "matrix = sp.Matrix([[a[0], b[0]], [a[1], b[1]]])\n",
        "\n",
        "# Вычисляем определитель и площадь\n",
        "area = 0.5 * sp.Abs(matrix.det())\n",
        "\n",
        "# Выводим результат\n",
        "area"
      ],
      "metadata": {
        "id": "9klpvze54u8F",
        "outputId": "9c313022-4c59-46ff-da31-110338c67d73",
        "colab": {
          "base_uri": "https://localhost:8080/",
          "height": 37
        }
      },
      "execution_count": 65,
      "outputs": [
        {
          "output_type": "execute_result",
          "data": {
            "text/plain": [
              "1.50000000000000"
            ],
            "text/latex": "$\\displaystyle 1.5$"
          },
          "metadata": {},
          "execution_count": 65
        }
      ]
    },
    {
      "cell_type": "markdown",
      "metadata": {
        "id": "bIY-5mS0JURI"
      },
      "source": []
    }
  ],
  "metadata": {
    "kernelspec": {
      "display_name": "Python 3",
      "language": "python",
      "name": "python3"
    },
    "language_info": {
      "codemirror_mode": {
        "name": "ipython",
        "version": 3
      },
      "file_extension": ".py",
      "mimetype": "text/x-python",
      "name": "python",
      "nbconvert_exporter": "python",
      "pygments_lexer": "ipython3",
      "version": "3.11.9"
    },
    "colab": {
      "provenance": []
    }
  },
  "nbformat": 4,
  "nbformat_minor": 0
}