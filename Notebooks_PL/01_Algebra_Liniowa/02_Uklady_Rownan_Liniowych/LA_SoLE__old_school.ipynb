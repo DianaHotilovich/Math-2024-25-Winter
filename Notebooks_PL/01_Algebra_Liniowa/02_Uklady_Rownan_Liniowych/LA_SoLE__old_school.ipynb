{
  "cells": [
    {
      "cell_type": "markdown",
      "metadata": {
        "id": "RH9gCa2GdRuJ"
      },
      "source": [
        "## Metoda szkolna rozwiązania układu równań liniowych"
      ]
    },
    {
      "cell_type": "code",
      "execution_count": 258,
      "metadata": {
        "id": "bEJDY5rjdRuS"
      },
      "outputs": [],
      "source": [
        "import sympy as sp\n",
        "from sympy import symbols, Eq, expand, solve, Rational\n",
        "\n",
        "class EnhancedEq(Eq):\n",
        "    def __add__(self, other):\n",
        "        return EnhancedEq(self.lhs + other.lhs, self.rhs + other.rhs)\n",
        "\n",
        "    def __sub__(self, other):\n",
        "        return EnhancedEq(self.lhs - other.lhs, self.rhs - other.rhs)\n",
        "\n",
        "    def __mul__(self, scalar):\n",
        "        return EnhancedEq(scalar * self.lhs, scalar * self.rhs)\n",
        "\n",
        "    def __rmul__(self, scalar):\n",
        "        return self.__mul__(scalar)\n",
        "\n",
        "    def simplify(self):\n",
        "        return EnhancedEq(expand(self.lhs), expand(self.rhs))\n",
        "\n",
        "    def substitute(self, *args, **kwargs):\n",
        "        return EnhancedEq(self.lhs.subs(*args, **kwargs), self.rhs.subs(*args, **kwargs))\n",
        "\n",
        "    def solve_for(self, symbol):\n",
        "        return solve(self, symbol)\n",
        "import sympy as sp\n",
        "from sympy import symbols, Eq, expand, solve, Rational\n",
        "\n",
        "class EnhancedEq(Eq):\n",
        "    def __add__(self, other):\n",
        "        return EnhancedEq(self.lhs + other.lhs, self.rhs + other.rhs)\n",
        "\n",
        "    def __sub__(self, other):\n",
        "        return EnhancedEq(self.lhs - other.lhs, self.rhs - other.rhs)\n",
        "\n",
        "    def __mul__(self, scalar):\n",
        "        return EnhancedEq(scalar * self.lhs, scalar * self.rhs)\n",
        "\n",
        "    def __rmul__(self, scalar):\n",
        "        return self.__mul__(scalar)\n",
        "\n",
        "    def simplify(self):\n",
        "        return EnhancedEq(expand(self.lhs), expand(self.rhs))\n",
        "\n",
        "    def substitute(self, *args, **kwargs):\n",
        "        return EnhancedEq(self.lhs.subs(*args, **kwargs), self.rhs.subs(*args, **kwargs))\n",
        "\n",
        "    def solve_for(self, symbol):\n",
        "        return solve(self, symbol)\n",
        "\n",
        "    def __truediv__(self, other):\n",
        "        if isinstance(other, (int, float, Rational)):\n",
        "            return EnhancedEq(self.lhs / other, self.rhs / other)\n",
        "\n",
        "\n",
        "# Przykład użycia:\n",
        "x, y = symbols('x y')\n",
        "\n",
        "# Definicja równań\n",
        "eq1 = EnhancedEq(2*x + y, 5)\n",
        "eq2 = EnhancedEq(x - y, 1)\n"
      ]
    },
    {
      "cell_type": "code",
      "execution_count": 4,
      "metadata": {
        "colab": {
          "base_uri": "https://localhost:8080/",
          "height": 57
        },
        "id": "G421oXwBdRuX",
        "outputId": "7a63c702-c8d8-4d2b-f0cf-25f4d12af5d6"
      },
      "outputs": [
        {
          "output_type": "stream",
          "name": "stdout",
          "text": [
            "Piersze równanie:\n"
          ]
        },
        {
          "output_type": "execute_result",
          "data": {
            "text/plain": [
              "Eq(2*x + y, 5)"
            ],
            "text/latex": "$\\displaystyle 2 x + y = 5$"
          },
          "metadata": {},
          "execution_count": 4
        }
      ],
      "source": [
        "print(\"Piersze równanie:\")\n",
        "eq1"
      ]
    },
    {
      "cell_type": "code",
      "execution_count": 5,
      "metadata": {
        "colab": {
          "base_uri": "https://localhost:8080/",
          "height": 57
        },
        "id": "rrw6i1VQdRuZ",
        "outputId": "70994505-5ecf-4887-e799-8994d95bb6f8"
      },
      "outputs": [
        {
          "output_type": "stream",
          "name": "stdout",
          "text": [
            "Drugie równanie:\n"
          ]
        },
        {
          "output_type": "execute_result",
          "data": {
            "text/plain": [
              "Eq(x - y, 1)"
            ],
            "text/latex": "$\\displaystyle x - y = 1$"
          },
          "metadata": {},
          "execution_count": 5
        }
      ],
      "source": [
        "print(\"Drugie równanie:\")\n",
        "eq2"
      ]
    },
    {
      "cell_type": "code",
      "execution_count": 6,
      "metadata": {
        "colab": {
          "base_uri": "https://localhost:8080/",
          "height": 39
        },
        "id": "RvbtLumSdRub",
        "outputId": "178fa81b-b7a8-4385-bc0d-1d2e65e21661"
      },
      "outputs": [
        {
          "output_type": "execute_result",
          "data": {
            "text/plain": [
              "Eq(3*x, 6)"
            ],
            "text/latex": "$\\displaystyle 3 x = 6$"
          },
          "metadata": {},
          "execution_count": 6
        }
      ],
      "source": [
        "# Dodajemy do siebie równania\n",
        "eq3 = eq1 + eq2\n",
        "eq3"
      ]
    },
    {
      "cell_type": "code",
      "execution_count": 7,
      "metadata": {
        "colab": {
          "base_uri": "https://localhost:8080/",
          "height": 37
        },
        "id": "sU6-r1tzdRuc",
        "outputId": "f63fa0ab-834c-48f9-d390-9932e1e92af3"
      },
      "outputs": [
        {
          "output_type": "execute_result",
          "data": {
            "text/plain": [
              "2"
            ],
            "text/latex": "$\\displaystyle 2$"
          },
          "metadata": {},
          "execution_count": 7
        }
      ],
      "source": [
        "# Mamy równanie z jedną niewiadomą więc możemy je rozwiązać\n",
        "sol_x = eq3.solve_for(x)[0]\n",
        "sol_x"
      ]
    },
    {
      "cell_type": "code",
      "execution_count": 8,
      "metadata": {
        "colab": {
          "base_uri": "https://localhost:8080/",
          "height": 39
        },
        "id": "KqKCkpesdRud",
        "outputId": "e8a63cda-4351-42e9-9ae6-3bf8aa7f5a08"
      },
      "outputs": [
        {
          "output_type": "execute_result",
          "data": {
            "text/plain": [
              "Eq(2 - y, 1)"
            ],
            "text/latex": "$\\displaystyle 2 - y = 1$"
          },
          "metadata": {},
          "execution_count": 8
        }
      ],
      "source": [
        "# Podstawiamy rozwiązanie do równania 2\n",
        "eq2=eq2.substitute(x,sol_x)\n",
        "eq2"
      ]
    },
    {
      "cell_type": "code",
      "execution_count": 9,
      "metadata": {
        "colab": {
          "base_uri": "https://localhost:8080/",
          "height": 37
        },
        "id": "NuykguA2dRuf",
        "outputId": "0618e4cd-f37e-4ba3-eced-dc527f031716"
      },
      "outputs": [
        {
          "output_type": "execute_result",
          "data": {
            "text/plain": [
              "1"
            ],
            "text/latex": "$\\displaystyle 1$"
          },
          "metadata": {},
          "execution_count": 9
        }
      ],
      "source": [
        "# Dostajemy równanie z jedną niewiadomą więc możemy je rozwiązać\n",
        "eq2.solve_for(y)[0]"
      ]
    },
    {
      "cell_type": "code",
      "execution_count": 10,
      "metadata": {
        "colab": {
          "base_uri": "https://localhost:8080/"
        },
        "id": "EnxDNpJ0dRug",
        "outputId": "d26c2cb0-8ba2-4f3c-cb3f-3eceb4c552f7"
      },
      "outputs": [
        {
          "output_type": "execute_result",
          "data": {
            "text/plain": [
              "{x: 2, y: 1}"
            ]
          },
          "metadata": {},
          "execution_count": 10
        }
      ],
      "source": [
        "# czyli x=2, y=1\n",
        "# Sprawdzamy w sympy\n",
        "sp.solve([eq1,eq2])"
      ]
    },
    {
      "cell_type": "markdown",
      "metadata": {
        "id": "fUTup228dRuh"
      },
      "source": [
        "---\n",
        "\n",
        "### Zadania dla studentów\n",
        "\n",
        "Analogicznie jak wyżej rozwiąż następujące układy równań:\n",
        "\n",
        "* $3x-2y=5, \\quad 2x+3y=7$,\n",
        "* $2x-3y=10, \\quad 4x+5y=20$,\n",
        "* $2x - y + z = 3, \\quad x + 2y - z = 1, \\quad 3x - y + 2z = 11$.\n",
        "* $2x-3y+4z+2t=2, \\quad 3x+2y-5z+3t=3, \\quad 4x-3y+2z-5t=4, \\quad 5x+4y-3z+2t=5$.\n"
      ]
    },
    {
      "cell_type": "code",
      "source": [
        "x, y = symbols('x y')\n",
        "\n",
        "# Definicja równań\n",
        "eq1 = EnhancedEq(3*x - 2*y, 5)\n",
        "eq2 = EnhancedEq(2*x + 3*y, 7)\n",
        "\n",
        "print(\"Piersze równanie:\")\n",
        "eq1"
      ],
      "metadata": {
        "colab": {
          "base_uri": "https://localhost:8080/",
          "height": 57
        },
        "id": "USNYvXTr51FZ",
        "outputId": "5f4a370d-0ce6-4387-c4b0-110609b90b6c"
      },
      "execution_count": 47,
      "outputs": [
        {
          "output_type": "stream",
          "name": "stdout",
          "text": [
            "Piersze równanie:\n"
          ]
        },
        {
          "output_type": "execute_result",
          "data": {
            "text/plain": [
              "Eq(3*x - 2*y, 5)"
            ],
            "text/latex": "$\\displaystyle 3 x - 2 y = 5$"
          },
          "metadata": {},
          "execution_count": 47
        }
      ]
    },
    {
      "cell_type": "code",
      "source": [
        "print(\"Drugie równanie:\")\n",
        "eq2"
      ],
      "metadata": {
        "colab": {
          "base_uri": "https://localhost:8080/",
          "height": 57
        },
        "id": "RlPz4Lwe6hfW",
        "outputId": "9ecfdacb-3c6d-4743-94c9-d9873bd219da"
      },
      "execution_count": 41,
      "outputs": [
        {
          "output_type": "stream",
          "name": "stdout",
          "text": [
            "Drugie równanie:\n"
          ]
        },
        {
          "output_type": "execute_result",
          "data": {
            "text/plain": [
              "Eq(2*x + 3*y, 7)"
            ],
            "text/latex": "$\\displaystyle 2 x + 3 y = 7$"
          },
          "metadata": {},
          "execution_count": 41
        }
      ]
    },
    {
      "cell_type": "code",
      "source": [
        "# Dodajemy do siebie równania\n",
        "eq3 = eq1 + eq2\n",
        "eq3"
      ],
      "metadata": {
        "colab": {
          "base_uri": "https://localhost:8080/",
          "height": 39
        },
        "id": "c4YAfdse6lCP",
        "outputId": "6e4764c2-5d3d-474a-fb34-430db5492898"
      },
      "execution_count": 42,
      "outputs": [
        {
          "output_type": "execute_result",
          "data": {
            "text/plain": [
              "Eq(5*x + y, 12)"
            ],
            "text/latex": "$\\displaystyle 5 x + y = 12$"
          },
          "metadata": {},
          "execution_count": 42
        }
      ]
    },
    {
      "cell_type": "code",
      "source": [
        "# Mamy równanie z dwiema niewiadomymi ale możemy je rozwiązać\n",
        "sol_x = eq3.solve_for(x)[0]\n",
        "sol_x"
      ],
      "metadata": {
        "colab": {
          "base_uri": "https://localhost:8080/",
          "height": 51
        },
        "id": "esHAOxWF6nzi",
        "outputId": "30ddd380-9e53-4e80-efb6-396f212f8295"
      },
      "execution_count": 43,
      "outputs": [
        {
          "output_type": "execute_result",
          "data": {
            "text/plain": [
              "12/5 - y/5"
            ],
            "text/latex": "$\\displaystyle \\frac{12}{5} - \\frac{y}{5}$"
          },
          "metadata": {},
          "execution_count": 43
        }
      ]
    },
    {
      "cell_type": "code",
      "source": [
        "# Podstawiamy rozwiązanie do równania 2\n",
        "eq2=eq2.substitute(x,sol_x)\n",
        "eq2"
      ],
      "metadata": {
        "colab": {
          "base_uri": "https://localhost:8080/",
          "height": 51
        },
        "id": "Yv8-LPno6q_6",
        "outputId": "be23cfd4-bd7f-4245-d7a1-93660ae13487"
      },
      "execution_count": 44,
      "outputs": [
        {
          "output_type": "execute_result",
          "data": {
            "text/plain": [
              "Eq(13*y/5 + 24/5, 7)"
            ],
            "text/latex": "$\\displaystyle \\frac{13 y}{5} + \\frac{24}{5} = 7$"
          },
          "metadata": {},
          "execution_count": 44
        }
      ]
    },
    {
      "cell_type": "code",
      "source": [
        "# Dostajemy równanie z jedną niewiadomą więc możemy je rozwiązać\n",
        "eq2.solve_for(y)[0]"
      ],
      "metadata": {
        "colab": {
          "base_uri": "https://localhost:8080/",
          "height": 51
        },
        "id": "mu2PDpnt6ueI",
        "outputId": "d803eecf-052a-4959-fa19-1b9f5d9af900"
      },
      "execution_count": 45,
      "outputs": [
        {
          "output_type": "execute_result",
          "data": {
            "text/plain": [
              "11/13"
            ],
            "text/latex": "$\\displaystyle \\frac{11}{13}$"
          },
          "metadata": {},
          "execution_count": 45
        }
      ]
    },
    {
      "cell_type": "code",
      "source": [
        "# Sprawdzamy w sympy\n",
        "sp.solve([eq1,eq2])"
      ],
      "metadata": {
        "colab": {
          "base_uri": "https://localhost:8080/"
        },
        "id": "WVAu1OmB6zvn",
        "outputId": "0f0e8f83-55d4-4f47-d7a7-c3c87ded732f"
      },
      "execution_count": 46,
      "outputs": [
        {
          "output_type": "execute_result",
          "data": {
            "text/plain": [
              "{x: 29/13, y: 11/13}"
            ]
          },
          "metadata": {},
          "execution_count": 46
        }
      ]
    },
    {
      "cell_type": "code",
      "source": [
        "#2\n",
        "\n",
        "x, y = symbols('x y')\n",
        "\n",
        "# Definicja równań\n",
        "eq1 = EnhancedEq(2*x - 3*y, 10)\n",
        "eq2 = EnhancedEq(4*x + 5*y, 20)\n",
        "\n",
        "print(\"Piersze równanie:\")\n",
        "eq1"
      ],
      "metadata": {
        "colab": {
          "base_uri": "https://localhost:8080/",
          "height": 57
        },
        "id": "aLcZpyiV8D6s",
        "outputId": "6d60c166-111f-49bd-e81c-bda21aba222a"
      },
      "execution_count": 63,
      "outputs": [
        {
          "output_type": "stream",
          "name": "stdout",
          "text": [
            "Piersze równanie:\n"
          ]
        },
        {
          "output_type": "execute_result",
          "data": {
            "text/plain": [
              "Eq(2*x - 3*y, 10)"
            ],
            "text/latex": "$\\displaystyle 2 x - 3 y = 10$"
          },
          "metadata": {},
          "execution_count": 63
        }
      ]
    },
    {
      "cell_type": "code",
      "source": [
        "print(\"Drugie równanie:\")\n",
        "eq2"
      ],
      "metadata": {
        "colab": {
          "base_uri": "https://localhost:8080/",
          "height": 57
        },
        "id": "XxIv3Qmr8sbR",
        "outputId": "6bebca84-04cc-44a2-f680-494b811af7d7"
      },
      "execution_count": 64,
      "outputs": [
        {
          "output_type": "stream",
          "name": "stdout",
          "text": [
            "Drugie równanie:\n"
          ]
        },
        {
          "output_type": "execute_result",
          "data": {
            "text/plain": [
              "Eq(4*x + 5*y, 20)"
            ],
            "text/latex": "$\\displaystyle 4 x + 5 y = 20$"
          },
          "metadata": {},
          "execution_count": 64
        }
      ]
    },
    {
      "cell_type": "code",
      "source": [
        "eq1 *= -2\n",
        "print(eq1)"
      ],
      "metadata": {
        "colab": {
          "base_uri": "https://localhost:8080/"
        },
        "id": "nxhCPKp39W87",
        "outputId": "a72ae3cb-8f1d-4565-ed20-8f4554ba5ae6"
      },
      "execution_count": 65,
      "outputs": [
        {
          "output_type": "stream",
          "name": "stdout",
          "text": [
            "Eq(-4*x + 6*y, -20)\n"
          ]
        }
      ]
    },
    {
      "cell_type": "code",
      "source": [
        "# Dodajemy do siebie równania\n",
        "eq3 = eq1 + eq2\n",
        "eq3"
      ],
      "metadata": {
        "colab": {
          "base_uri": "https://localhost:8080/",
          "height": 39
        },
        "id": "Wgd2w0kp9hPm",
        "outputId": "14091109-963c-493f-ece2-7b9e6c96aef7"
      },
      "execution_count": 66,
      "outputs": [
        {
          "output_type": "execute_result",
          "data": {
            "text/plain": [
              "Eq(11*y, 0)"
            ],
            "text/latex": "$\\displaystyle 11 y = 0$"
          },
          "metadata": {},
          "execution_count": 66
        }
      ]
    },
    {
      "cell_type": "code",
      "source": [
        "# Mamy równanie z jedną niewiadomą więc możemy je rozwiązać\n",
        "sol_y = eq3.solve_for(y)[0]\n",
        "sol_y"
      ],
      "metadata": {
        "colab": {
          "base_uri": "https://localhost:8080/",
          "height": 37
        },
        "id": "mDVxoiu59tBS",
        "outputId": "e9991880-6241-4b8d-9411-ba23e5962adb"
      },
      "execution_count": 67,
      "outputs": [
        {
          "output_type": "execute_result",
          "data": {
            "text/plain": [
              "0"
            ],
            "text/latex": "$\\displaystyle 0$"
          },
          "metadata": {},
          "execution_count": 67
        }
      ]
    },
    {
      "cell_type": "code",
      "source": [
        "# Podstawiamy rozwiązanie do równania 2\n",
        "eq2=eq2.substitute(y,sol_y)\n",
        "eq2"
      ],
      "metadata": {
        "colab": {
          "base_uri": "https://localhost:8080/",
          "height": 39
        },
        "id": "4PR1EZ4x9xxy",
        "outputId": "cefd50f6-cdf8-4ffe-a3f6-021971a01045"
      },
      "execution_count": 68,
      "outputs": [
        {
          "output_type": "execute_result",
          "data": {
            "text/plain": [
              "Eq(4*x, 20)"
            ],
            "text/latex": "$\\displaystyle 4 x = 20$"
          },
          "metadata": {},
          "execution_count": 68
        }
      ]
    },
    {
      "cell_type": "code",
      "source": [
        "# Dostajemy równanie z jedną niewiadomą więc możemy je rozwiązać\n",
        "eq2.solve_for(x)[0]"
      ],
      "metadata": {
        "colab": {
          "base_uri": "https://localhost:8080/",
          "height": 37
        },
        "id": "RrVWWbwTAUKE",
        "outputId": "8727fac7-67fb-4669-947b-63d794f92cd8"
      },
      "execution_count": 69,
      "outputs": [
        {
          "output_type": "execute_result",
          "data": {
            "text/plain": [
              "5"
            ],
            "text/latex": "$\\displaystyle 5$"
          },
          "metadata": {},
          "execution_count": 69
        }
      ]
    },
    {
      "cell_type": "code",
      "source": [
        "# czyli x=5, y=0\n",
        "# Sprawdzamy w sympy\n",
        "sp.solve([eq1,eq2])"
      ],
      "metadata": {
        "colab": {
          "base_uri": "https://localhost:8080/"
        },
        "id": "bKKhMdI0AZ2u",
        "outputId": "8fb57e09-4d9e-4b76-b020-7e9309abdcca"
      },
      "execution_count": 70,
      "outputs": [
        {
          "output_type": "execute_result",
          "data": {
            "text/plain": [
              "{x: 5, y: 0}"
            ]
          },
          "metadata": {},
          "execution_count": 70
        }
      ]
    },
    {
      "cell_type": "code",
      "source": [
        "x, y, z = symbols('x y z')\n",
        "\n",
        "# Definicja równań\n",
        "eq1 = EnhancedEq(2*x - y + z, 3)\n",
        "eq2 = EnhancedEq(x + 2*y - z, 1)\n",
        "eq3 = EnhancedEq(3*x - y + 2*z, 11)\n",
        "\n",
        "print(\"Piersze równanie:\")\n",
        "eq1"
      ],
      "metadata": {
        "colab": {
          "base_uri": "https://localhost:8080/",
          "height": 57
        },
        "id": "MpGhB5UEA5n8",
        "outputId": "39620fa4-fe24-4c30-bd55-d358c32f0b7f"
      },
      "execution_count": 200,
      "outputs": [
        {
          "output_type": "stream",
          "name": "stdout",
          "text": [
            "Piersze równanie:\n"
          ]
        },
        {
          "output_type": "execute_result",
          "data": {
            "text/plain": [
              "Eq(2*x - y + z, 3)"
            ],
            "text/latex": "$\\displaystyle 2 x - y + z = 3$"
          },
          "metadata": {},
          "execution_count": 200
        }
      ]
    },
    {
      "cell_type": "code",
      "source": [
        "print(\"Drugie równanie:\")\n",
        "eq2"
      ],
      "metadata": {
        "colab": {
          "base_uri": "https://localhost:8080/",
          "height": 57
        },
        "id": "jc4It0KnCgSW",
        "outputId": "6bcdcc50-75b5-4c91-9979-f2c5da994a31"
      },
      "execution_count": 201,
      "outputs": [
        {
          "output_type": "stream",
          "name": "stdout",
          "text": [
            "Drugie równanie:\n"
          ]
        },
        {
          "output_type": "execute_result",
          "data": {
            "text/plain": [
              "Eq(x + 2*y - z, 1)"
            ],
            "text/latex": "$\\displaystyle x + 2 y - z = 1$"
          },
          "metadata": {},
          "execution_count": 201
        }
      ]
    },
    {
      "cell_type": "code",
      "source": [
        "print(\"Trzecie równanie:\")\n",
        "eq3"
      ],
      "metadata": {
        "colab": {
          "base_uri": "https://localhost:8080/",
          "height": 57
        },
        "id": "Va_sjGu5Cj0Q",
        "outputId": "bb1c4a5a-7234-4f3d-def5-9b2804a6e02a"
      },
      "execution_count": 202,
      "outputs": [
        {
          "output_type": "stream",
          "name": "stdout",
          "text": [
            "Trzecie równanie:\n"
          ]
        },
        {
          "output_type": "execute_result",
          "data": {
            "text/plain": [
              "Eq(3*x - y + 2*z, 11)"
            ],
            "text/latex": "$\\displaystyle 3 x - y + 2 z = 11$"
          },
          "metadata": {},
          "execution_count": 202
        }
      ]
    },
    {
      "cell_type": "code",
      "source": [
        "# Dodajemy do siebie równania\n",
        "eq4 = eq1 + eq2\n",
        "eq4"
      ],
      "metadata": {
        "colab": {
          "base_uri": "https://localhost:8080/",
          "height": 39
        },
        "id": "Qv2XuBcLC5PP",
        "outputId": "78c0dd7e-d543-4cc0-9391-27feedf7910f"
      },
      "execution_count": 203,
      "outputs": [
        {
          "output_type": "execute_result",
          "data": {
            "text/plain": [
              "Eq(3*x + y, 4)"
            ],
            "text/latex": "$\\displaystyle 3 x + y = 4$"
          },
          "metadata": {},
          "execution_count": 203
        }
      ]
    },
    {
      "cell_type": "code",
      "source": [
        "eq2 *= 2\n",
        "print(eq2)"
      ],
      "metadata": {
        "colab": {
          "base_uri": "https://localhost:8080/"
        },
        "id": "UsCeHFzlHlBB",
        "outputId": "fe24b49e-bd9d-4b91-8769-c1813eb63c69"
      },
      "execution_count": 204,
      "outputs": [
        {
          "output_type": "stream",
          "name": "stdout",
          "text": [
            "Eq(2*x + 4*y - 2*z, 2)\n"
          ]
        }
      ]
    },
    {
      "cell_type": "code",
      "source": [
        "eq5 = eq3 + eq2\n",
        "eq5"
      ],
      "metadata": {
        "colab": {
          "base_uri": "https://localhost:8080/",
          "height": 39
        },
        "id": "-LLX2RYaHnIe",
        "outputId": "d4f0808f-12e9-48df-854e-9a97cd5290e0"
      },
      "execution_count": 205,
      "outputs": [
        {
          "output_type": "execute_result",
          "data": {
            "text/plain": [
              "Eq(5*x + 3*y, 13)"
            ],
            "text/latex": "$\\displaystyle 5 x + 3 y = 13$"
          },
          "metadata": {},
          "execution_count": 205
        }
      ]
    },
    {
      "cell_type": "code",
      "source": [
        "eq4 *= -3\n",
        "eq4"
      ],
      "metadata": {
        "colab": {
          "base_uri": "https://localhost:8080/",
          "height": 39
        },
        "id": "He5_wJ0gIEjB",
        "outputId": "d60c1aa6-2112-4b87-ef9d-79acb47cc5b0"
      },
      "execution_count": 206,
      "outputs": [
        {
          "output_type": "execute_result",
          "data": {
            "text/plain": [
              "Eq(-9*x - 3*y, -12)"
            ],
            "text/latex": "$\\displaystyle - 9 x - 3 y = -12$"
          },
          "metadata": {},
          "execution_count": 206
        }
      ]
    },
    {
      "cell_type": "code",
      "source": [
        "# Dodajemy do siebie równania\n",
        "eq6 = eq4 + eq5\n",
        "eq6"
      ],
      "metadata": {
        "colab": {
          "base_uri": "https://localhost:8080/",
          "height": 39
        },
        "id": "aC_vqbwWIHkM",
        "outputId": "aac0af4d-8ec1-4069-a2c6-95610a4c8a22"
      },
      "execution_count": 207,
      "outputs": [
        {
          "output_type": "execute_result",
          "data": {
            "text/plain": [
              "Eq(-4*x, 1)"
            ],
            "text/latex": "$\\displaystyle - 4 x = 1$"
          },
          "metadata": {},
          "execution_count": 207
        }
      ]
    },
    {
      "cell_type": "code",
      "source": [
        "# Mamy równanie z jedną niewiadomą więc możemy je rozwiązać\n",
        "sol_x = eq6.solve_for(x)[0]\n",
        "sol_x"
      ],
      "metadata": {
        "colab": {
          "base_uri": "https://localhost:8080/",
          "height": 51
        },
        "id": "cRhvOZuJIYwT",
        "outputId": "fd557a5f-10fe-4984-98e8-2e1acb47c373"
      },
      "execution_count": 208,
      "outputs": [
        {
          "output_type": "execute_result",
          "data": {
            "text/plain": [
              "-1/4"
            ],
            "text/latex": "$\\displaystyle - \\frac{1}{4}$"
          },
          "metadata": {},
          "execution_count": 208
        }
      ]
    },
    {
      "cell_type": "code",
      "source": [
        "# Podstawiamy rozwiązanie do równania 2\n",
        "eq4=eq4.substitute(x,sol_x)\n",
        "eq4"
      ],
      "metadata": {
        "colab": {
          "base_uri": "https://localhost:8080/",
          "height": 51
        },
        "id": "wJ0FIU-ZIiI4",
        "outputId": "d367b06e-b49e-40a8-f254-22ae5591e290"
      },
      "execution_count": 209,
      "outputs": [
        {
          "output_type": "execute_result",
          "data": {
            "text/plain": [
              "Eq(9/4 - 3*y, -12)"
            ],
            "text/latex": "$\\displaystyle \\frac{9}{4} - 3 y = -12$"
          },
          "metadata": {},
          "execution_count": 209
        }
      ]
    },
    {
      "cell_type": "code",
      "source": [
        "# Dostajemy równanie z jedną niewiadomą więc możemy je rozwiązać\n",
        "eq4.solve_for(y)[0]"
      ],
      "metadata": {
        "colab": {
          "base_uri": "https://localhost:8080/",
          "height": 51
        },
        "id": "3SmM8saNI0Yw",
        "outputId": "97be8084-0c42-492f-c693-28cf1c0f1ad4"
      },
      "execution_count": 210,
      "outputs": [
        {
          "output_type": "execute_result",
          "data": {
            "text/plain": [
              "19/4"
            ],
            "text/latex": "$\\displaystyle \\frac{19}{4}$"
          },
          "metadata": {},
          "execution_count": 210
        }
      ]
    },
    {
      "cell_type": "code",
      "source": [
        "# Podstawiamy rozwiązanie do równania 2\n",
        "eq1 = eq1.substitute(x, sol_x).substitute(y, sol_y)\n",
        "eq1"
      ],
      "metadata": {
        "colab": {
          "base_uri": "https://localhost:8080/",
          "height": 51
        },
        "id": "lnnzB8uPJMBT",
        "outputId": "1fadeea7-e276-4201-b193-aabdb9b259c9"
      },
      "execution_count": 211,
      "outputs": [
        {
          "output_type": "execute_result",
          "data": {
            "text/plain": [
              "Eq(-3*x - z + 21/2, 3)"
            ],
            "text/latex": "$\\displaystyle - 3 x - z + \\frac{21}{2} = 3$"
          },
          "metadata": {},
          "execution_count": 211
        }
      ]
    },
    {
      "cell_type": "code",
      "source": [
        "# Dostajemy równanie z jedną niewiadomą więc możemy je rozwiązać\n",
        "eq1.solve_for(z)[0]"
      ],
      "metadata": {
        "colab": {
          "base_uri": "https://localhost:8080/",
          "height": 51
        },
        "id": "bVjaqfsdJrxG",
        "outputId": "b5ee18b8-4e4b-46c1-e4e5-0304ae28223f"
      },
      "execution_count": 212,
      "outputs": [
        {
          "output_type": "execute_result",
          "data": {
            "text/plain": [
              "15/2 - 3*x"
            ],
            "text/latex": "$\\displaystyle \\frac{15}{2} - 3 x$"
          },
          "metadata": {},
          "execution_count": 212
        }
      ]
    },
    {
      "cell_type": "code",
      "source": [
        "# Sprawdzamy w sympy\n",
        "sp.solve([eq1,eq2,eq3])"
      ],
      "metadata": {
        "colab": {
          "base_uri": "https://localhost:8080/"
        },
        "id": "HWpvuOgbJ442",
        "outputId": "d345fd2d-7ba1-42f2-8cb4-0ff151d85828"
      },
      "execution_count": 213,
      "outputs": [
        {
          "output_type": "execute_result",
          "data": {
            "text/plain": [
              "{x: -1/4, y: 19/4, z: 33/4}"
            ]
          },
          "metadata": {},
          "execution_count": 213
        }
      ]
    },
    {
      "cell_type": "code",
      "source": [
        "#4\n",
        "\n",
        "x, y, z, t = symbols('x y z t')\n",
        "\n",
        "# Definicja równań\n",
        "eq1 = EnhancedEq(2*x - 3*y + 4*z + 2*t, 2)\n",
        "eq2 = EnhancedEq(3*x + 2*y - 5*z + 3*t, 3)\n",
        "eq3 = EnhancedEq(4*x - 3*y + 2*z - 5*t, 4)\n",
        "eq4 = EnhancedEq(5*x + 4*y - 3*z + 2*t, 5)\n",
        "\n",
        "print(\"Piersze równanie:\")\n",
        "eq1"
      ],
      "metadata": {
        "id": "RusCwmjZKv4q",
        "outputId": "9907ab85-1900-449b-e7bc-588b007ce2b1",
        "colab": {
          "base_uri": "https://localhost:8080/",
          "height": 57
        }
      },
      "execution_count": 336,
      "outputs": [
        {
          "output_type": "stream",
          "name": "stdout",
          "text": [
            "Piersze równanie:\n"
          ]
        },
        {
          "output_type": "execute_result",
          "data": {
            "text/plain": [
              "Eq(2*t + 2*x - 3*y + 4*z, 2)"
            ],
            "text/latex": "$\\displaystyle 2 t + 2 x - 3 y + 4 z = 2$"
          },
          "metadata": {},
          "execution_count": 336
        }
      ]
    },
    {
      "cell_type": "code",
      "source": [
        "eq6 = eq1\n",
        "eq6"
      ],
      "metadata": {
        "id": "9VleIC5xWTHK",
        "outputId": "74f039f9-560b-49f8-8bfb-8a4a029f9b79",
        "colab": {
          "base_uri": "https://localhost:8080/",
          "height": 39
        }
      },
      "execution_count": 323,
      "outputs": [
        {
          "output_type": "execute_result",
          "data": {
            "text/plain": [
              "Eq(2*t + 2*x - 3*y + 4*z, 2)"
            ],
            "text/latex": "$\\displaystyle 2 t + 2 x - 3 y + 4 z = 2$"
          },
          "metadata": {},
          "execution_count": 323
        }
      ]
    },
    {
      "cell_type": "code",
      "source": [
        "eq9 = eq1\n",
        "eq9"
      ],
      "metadata": {
        "id": "GJh_XI_ncg3y",
        "outputId": "a218accf-ab56-46a8-952c-c40c48d5e6f6",
        "colab": {
          "base_uri": "https://localhost:8080/",
          "height": 39
        }
      },
      "execution_count": 324,
      "outputs": [
        {
          "output_type": "execute_result",
          "data": {
            "text/plain": [
              "Eq(2*t + 2*x - 3*y + 4*z, 2)"
            ],
            "text/latex": "$\\displaystyle 2 t + 2 x - 3 y + 4 z = 2$"
          },
          "metadata": {},
          "execution_count": 324
        }
      ]
    },
    {
      "cell_type": "code",
      "source": [
        "print(\"Drugie równanie:\")\n",
        "eq2"
      ],
      "metadata": {
        "id": "aGlnux8OL3tf",
        "outputId": "38e50890-7465-4ff6-b7d8-a11229e01ec5",
        "colab": {
          "base_uri": "https://localhost:8080/",
          "height": 57
        }
      },
      "execution_count": 325,
      "outputs": [
        {
          "output_type": "stream",
          "name": "stdout",
          "text": [
            "Drugie równanie:\n"
          ]
        },
        {
          "output_type": "execute_result",
          "data": {
            "text/plain": [
              "Eq(3*t + 3*x + 2*y - 5*z, 3)"
            ],
            "text/latex": "$\\displaystyle 3 t + 3 x + 2 y - 5 z = 3$"
          },
          "metadata": {},
          "execution_count": 325
        }
      ]
    },
    {
      "cell_type": "code",
      "source": [
        "print(\"Trzecie równanie:\")\n",
        "eq3"
      ],
      "metadata": {
        "id": "fAXJkx3vL67R",
        "outputId": "78c468f0-6cbb-417c-96e2-2152d6dcd512",
        "colab": {
          "base_uri": "https://localhost:8080/",
          "height": 57
        }
      },
      "execution_count": 326,
      "outputs": [
        {
          "output_type": "stream",
          "name": "stdout",
          "text": [
            "Trzecie równanie:\n"
          ]
        },
        {
          "output_type": "execute_result",
          "data": {
            "text/plain": [
              "Eq(-5*t + 4*x - 3*y + 2*z, 4)"
            ],
            "text/latex": "$\\displaystyle - 5 t + 4 x - 3 y + 2 z = 4$"
          },
          "metadata": {},
          "execution_count": 326
        }
      ]
    },
    {
      "cell_type": "code",
      "source": [
        "print(\"Сzwarte równanie:\")\n",
        "eq4"
      ],
      "metadata": {
        "id": "5AL5xiKFMBCW",
        "outputId": "53948c01-2884-4950-e0ec-24b14a2fcb7e",
        "colab": {
          "base_uri": "https://localhost:8080/",
          "height": 57
        }
      },
      "execution_count": 327,
      "outputs": [
        {
          "output_type": "stream",
          "name": "stdout",
          "text": [
            "Сzwarte równanie:\n"
          ]
        },
        {
          "output_type": "execute_result",
          "data": {
            "text/plain": [
              "Eq(2*t + 5*x + 4*y - 3*z, 5)"
            ],
            "text/latex": "$\\displaystyle 2 t + 5 x + 4 y - 3 z = 5$"
          },
          "metadata": {},
          "execution_count": 327
        }
      ]
    },
    {
      "cell_type": "code",
      "source": [
        "eq8 = eq4\n",
        "eq8"
      ],
      "metadata": {
        "id": "eC449DWKb5ca",
        "outputId": "ad3c87fb-cde2-4afb-99aa-47e730066cc8",
        "colab": {
          "base_uri": "https://localhost:8080/",
          "height": 39
        }
      },
      "execution_count": 328,
      "outputs": [
        {
          "output_type": "execute_result",
          "data": {
            "text/plain": [
              "Eq(2*t + 5*x + 4*y - 3*z, 5)"
            ],
            "text/latex": "$\\displaystyle 2 t + 5 x + 4 y - 3 z = 5$"
          },
          "metadata": {},
          "execution_count": 328
        }
      ]
    },
    {
      "cell_type": "code",
      "source": [
        "eq1 *= Rational (-3, 2)\n",
        "eq5 = eq1 + eq2\n",
        "eq5"
      ],
      "metadata": {
        "id": "M5ZqMh73RFy9",
        "outputId": "15fe9035-634a-47b9-9c52-0b95f26f2503",
        "colab": {
          "base_uri": "https://localhost:8080/",
          "height": 51
        }
      },
      "execution_count": 329,
      "outputs": [
        {
          "output_type": "execute_result",
          "data": {
            "text/plain": [
              "Eq(13*y/2 - 11*z, 0)"
            ],
            "text/latex": "$\\displaystyle \\frac{13 y}{2} - 11 z = 0$"
          },
          "metadata": {},
          "execution_count": 329
        }
      ]
    },
    {
      "cell_type": "code",
      "source": [
        "eq5 *= 2\n",
        "eq5"
      ],
      "metadata": {
        "id": "YAcVeXBERNvl",
        "outputId": "e31ac11e-cf4a-4760-89cd-696e7937208f",
        "colab": {
          "base_uri": "https://localhost:8080/",
          "height": 39
        }
      },
      "execution_count": 330,
      "outputs": [
        {
          "output_type": "execute_result",
          "data": {
            "text/plain": [
              "Eq(13*y - 22*z, 0)"
            ],
            "text/latex": "$\\displaystyle 13 y - 22 z = 0$"
          },
          "metadata": {},
          "execution_count": 330
        }
      ]
    },
    {
      "cell_type": "code",
      "source": [
        "eq6 *= Rational (5, 2)\n",
        "eq6\n",
        "eq7 = eq6 + eq3\n",
        "eq7"
      ],
      "metadata": {
        "id": "3McHB1A6W9FA",
        "outputId": "155571de-2325-4baf-8adf-34126af66cc2",
        "colab": {
          "base_uri": "https://localhost:8080/",
          "height": 51
        }
      },
      "execution_count": 331,
      "outputs": [
        {
          "output_type": "execute_result",
          "data": {
            "text/plain": [
              "Eq(9*x - 21*y/2 + 12*z, 9)"
            ],
            "text/latex": "$\\displaystyle 9 x - \\frac{21 y}{2} + 12 z = 9$"
          },
          "metadata": {},
          "execution_count": 331
        }
      ]
    },
    {
      "cell_type": "code",
      "source": [
        "eq7 *= 2\n",
        "eq7\n",
        "eq7 /= 3\n",
        "eq7"
      ],
      "metadata": {
        "id": "QT47BHDeXPlb",
        "outputId": "87306683-9227-4c65-9850-1080b447c8ad",
        "colab": {
          "base_uri": "https://localhost:8080/",
          "height": 39
        }
      },
      "execution_count": 332,
      "outputs": [
        {
          "output_type": "execute_result",
          "data": {
            "text/plain": [
              "Eq(6*x - 7*y + 8*z, 6)"
            ],
            "text/latex": "$\\displaystyle 6 x - 7 y + 8 z = 6$"
          },
          "metadata": {},
          "execution_count": 332
        }
      ]
    },
    {
      "cell_type": "code",
      "source": [
        "eq9 *= -1\n",
        "eq9\n",
        "eq10 = eq9 + eq8\n",
        "eq10"
      ],
      "metadata": {
        "id": "PBjB-Kafhf00",
        "outputId": "6fb06b16-0aa9-4ae1-f56c-b38097f2d645",
        "colab": {
          "base_uri": "https://localhost:8080/",
          "height": 51
        }
      },
      "execution_count": 337,
      "outputs": [
        {
          "output_type": "execute_result",
          "data": {
            "text/plain": [
              "Eq(-10*t/3 - 16*x/3 + y/3 - 2*z, -16/3)"
            ],
            "text/latex": "$\\displaystyle - \\frac{10 t}{3} - \\frac{16 x}{3} + \\frac{y}{3} - 2 z = - \\frac{16}{3}$"
          },
          "metadata": {},
          "execution_count": 337
        }
      ]
    },
    {
      "cell_type": "code",
      "source": [
        "# Definicja zmiennych\n",
        "x, y, z, t = symbols('x y z t')\n",
        "\n",
        "# Definicja równań\n",
        "eq1 = EnhancedEq(2*x - 3*y + 4*z + 2*t, 2)\n",
        "eq2 = EnhancedEq(3*x + 2*y - 5*z + 3*t, 3)\n",
        "eq3 = EnhancedEq(4*x - 3*y + 2*z - 5*t, 4)\n",
        "eq4 = EnhancedEq(5*x + 4*y - 3*z + 2*t, 5)\n",
        "\n",
        "# Dodajemy eq1 i eq2, aby uprościć układ i wyeliminować zmienną z\n",
        "eq5 = eq1 + eq2\n",
        "\n",
        "# Rozwiązujemy eq5 dla x\n",
        "sol_x = eq5.solve_for(x)[0]\n",
        "\n",
        "# Podstawiamy wartość x do eq2\n",
        "eq2_sub = eq2.substitute(x, sol_x)\n",
        "\n",
        "# Rozwiązujemy eq2 dla y\n",
        "sol_y = eq2_sub.solve_for(y)[0]\n",
        "\n",
        "# Podstawiamy wartości y i z do eq3\n",
        "eq3_sub = eq3.substitute({y: sol_y, x: sol_x})\n",
        "\n",
        "# Rozwiązujemy eq3 dla z\n",
        "sol_z = eq3_sub.solve_for(z)[0]\n",
        "\n",
        "# Podstawiamy wartości x, y, z do eq4\n",
        "eq4_sub = eq4.substitute({x: sol_x, y: sol_y, z: sol_z})\n",
        "\n",
        "# Rozwiązujemy eq4 dla t\n",
        "sol_t = eq4_sub.solve_for(t)[0]\n",
        "\n",
        "# Podstawiamy z, aby obliczyć resztę zmiennych\n",
        "sol_z = sol_z.subs(t, sol_t)\n",
        "sol_y = sol_y.subs({t: sol_t, z: sol_z})\n",
        "sol_x = sol_x.subs({y: sol_y, t: sol_t, z: sol_z})\n",
        "\n",
        "# Wyświetlamy rozwiązania\n",
        "print(f\"x = {sol_x}\\ny = {sol_y}\\nz = {sol_z}\\nt = {sol_t}\")"
      ],
      "metadata": {
        "id": "BDG9Xkcgh6Ve",
        "outputId": "540c8e43-ea3e-4e12-f6f7-59504b71ca53",
        "colab": {
          "base_uri": "https://localhost:8080/"
        }
      },
      "execution_count": 339,
      "outputs": [
        {
          "output_type": "stream",
          "name": "stdout",
          "text": [
            "x = 1\n",
            "y = 0\n",
            "z = 0\n",
            "t = 0\n"
          ]
        }
      ]
    },
    {
      "cell_type": "code",
      "source": [
        "# Sprawdzamy w sympy\n",
        "sp.solve([eq1,eq2,eq3,eq4])"
      ],
      "metadata": {
        "id": "s9_QybkVi0PE",
        "outputId": "8ad40d33-06c7-4561-a53a-3163cec25556",
        "colab": {
          "base_uri": "https://localhost:8080/"
        }
      },
      "execution_count": 340,
      "outputs": [
        {
          "output_type": "execute_result",
          "data": {
            "text/plain": [
              "{t: 0, x: 1, y: 0, z: 0}"
            ]
          },
          "metadata": {},
          "execution_count": 340
        }
      ]
    },
    {
      "cell_type": "markdown",
      "metadata": {
        "id": "mTUk2jhPdRui"
      },
      "source": []
    }
  ],
  "metadata": {
    "kernelspec": {
      "display_name": ".venv",
      "language": "python",
      "name": "python3"
    },
    "language_info": {
      "codemirror_mode": {
        "name": "ipython",
        "version": 3
      },
      "file_extension": ".py",
      "mimetype": "text/x-python",
      "name": "python",
      "nbconvert_exporter": "python",
      "pygments_lexer": "ipython3",
      "version": "3.11.9"
    },
    "colab": {
      "provenance": []
    }
  },
  "nbformat": 4,
  "nbformat_minor": 0
}